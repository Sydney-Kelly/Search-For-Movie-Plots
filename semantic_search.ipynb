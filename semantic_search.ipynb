{
  "nbformat": 4,
  "nbformat_minor": 0,
  "metadata": {
    "colab": {
      "provenance": [],
      "include_colab_link": true
    },
    "kernelspec": {
      "name": "python3",
      "display_name": "Python 3"
    },
    "accelerator": "GPU",
    "widgets": {
      "application/vnd.jupyter.widget-state+json": {
        "f575640cea2445fe85fc3309d10c66c4": {
          "model_module": "@jupyter-widgets/controls",
          "model_name": "HBoxModel",
          "model_module_version": "1.5.0",
          "state": {
            "_dom_classes": [],
            "_model_module": "@jupyter-widgets/controls",
            "_model_module_version": "1.5.0",
            "_model_name": "HBoxModel",
            "_view_count": null,
            "_view_module": "@jupyter-widgets/controls",
            "_view_module_version": "1.5.0",
            "_view_name": "HBoxView",
            "box_style": "",
            "children": [
              "IPY_MODEL_770e6b24626441ff9a803f236fca03a6",
              "IPY_MODEL_b132a92432a64d79b2251e8c9183b79d",
              "IPY_MODEL_303d9d929d6e4987b3b60ae2a707ab85"
            ],
            "layout": "IPY_MODEL_939b37ca1f374b15b6bdba90f9d35a32"
          }
        },
        "770e6b24626441ff9a803f236fca03a6": {
          "model_module": "@jupyter-widgets/controls",
          "model_name": "HTMLModel",
          "model_module_version": "1.5.0",
          "state": {
            "_dom_classes": [],
            "_model_module": "@jupyter-widgets/controls",
            "_model_module_version": "1.5.0",
            "_model_name": "HTMLModel",
            "_view_count": null,
            "_view_module": "@jupyter-widgets/controls",
            "_view_module_version": "1.5.0",
            "_view_name": "HTMLView",
            "description": "",
            "description_tooltip": null,
            "layout": "IPY_MODEL_b4e2b97043bc449ab27b7f76accf0b52",
            "placeholder": "​",
            "style": "IPY_MODEL_d6599cfa78a34ee8be2139c1da090a9b",
            "value": "Downloading readme: 100%"
          }
        },
        "b132a92432a64d79b2251e8c9183b79d": {
          "model_module": "@jupyter-widgets/controls",
          "model_name": "FloatProgressModel",
          "model_module_version": "1.5.0",
          "state": {
            "_dom_classes": [],
            "_model_module": "@jupyter-widgets/controls",
            "_model_module_version": "1.5.0",
            "_model_name": "FloatProgressModel",
            "_view_count": null,
            "_view_module": "@jupyter-widgets/controls",
            "_view_module_version": "1.5.0",
            "_view_name": "ProgressView",
            "bar_style": "success",
            "description": "",
            "description_tooltip": null,
            "layout": "IPY_MODEL_e1eb31ea098f49e093a6d3244f0b2a3a",
            "max": 1044,
            "min": 0,
            "orientation": "horizontal",
            "style": "IPY_MODEL_74bbe7a8d0084426a66eed42325e8f44",
            "value": 1044
          }
        },
        "303d9d929d6e4987b3b60ae2a707ab85": {
          "model_module": "@jupyter-widgets/controls",
          "model_name": "HTMLModel",
          "model_module_version": "1.5.0",
          "state": {
            "_dom_classes": [],
            "_model_module": "@jupyter-widgets/controls",
            "_model_module_version": "1.5.0",
            "_model_name": "HTMLModel",
            "_view_count": null,
            "_view_module": "@jupyter-widgets/controls",
            "_view_module_version": "1.5.0",
            "_view_name": "HTMLView",
            "description": "",
            "description_tooltip": null,
            "layout": "IPY_MODEL_65bfdbf1279c411087e706e141800249",
            "placeholder": "​",
            "style": "IPY_MODEL_706c9922d5f3491e9f4fe3db3871ae85",
            "value": " 1.04k/1.04k [00:00&lt;00:00, 61.1kB/s]"
          }
        },
        "939b37ca1f374b15b6bdba90f9d35a32": {
          "model_module": "@jupyter-widgets/base",
          "model_name": "LayoutModel",
          "model_module_version": "1.2.0",
          "state": {
            "_model_module": "@jupyter-widgets/base",
            "_model_module_version": "1.2.0",
            "_model_name": "LayoutModel",
            "_view_count": null,
            "_view_module": "@jupyter-widgets/base",
            "_view_module_version": "1.2.0",
            "_view_name": "LayoutView",
            "align_content": null,
            "align_items": null,
            "align_self": null,
            "border": null,
            "bottom": null,
            "display": null,
            "flex": null,
            "flex_flow": null,
            "grid_area": null,
            "grid_auto_columns": null,
            "grid_auto_flow": null,
            "grid_auto_rows": null,
            "grid_column": null,
            "grid_gap": null,
            "grid_row": null,
            "grid_template_areas": null,
            "grid_template_columns": null,
            "grid_template_rows": null,
            "height": null,
            "justify_content": null,
            "justify_items": null,
            "left": null,
            "margin": null,
            "max_height": null,
            "max_width": null,
            "min_height": null,
            "min_width": null,
            "object_fit": null,
            "object_position": null,
            "order": null,
            "overflow": null,
            "overflow_x": null,
            "overflow_y": null,
            "padding": null,
            "right": null,
            "top": null,
            "visibility": null,
            "width": null
          }
        },
        "b4e2b97043bc449ab27b7f76accf0b52": {
          "model_module": "@jupyter-widgets/base",
          "model_name": "LayoutModel",
          "model_module_version": "1.2.0",
          "state": {
            "_model_module": "@jupyter-widgets/base",
            "_model_module_version": "1.2.0",
            "_model_name": "LayoutModel",
            "_view_count": null,
            "_view_module": "@jupyter-widgets/base",
            "_view_module_version": "1.2.0",
            "_view_name": "LayoutView",
            "align_content": null,
            "align_items": null,
            "align_self": null,
            "border": null,
            "bottom": null,
            "display": null,
            "flex": null,
            "flex_flow": null,
            "grid_area": null,
            "grid_auto_columns": null,
            "grid_auto_flow": null,
            "grid_auto_rows": null,
            "grid_column": null,
            "grid_gap": null,
            "grid_row": null,
            "grid_template_areas": null,
            "grid_template_columns": null,
            "grid_template_rows": null,
            "height": null,
            "justify_content": null,
            "justify_items": null,
            "left": null,
            "margin": null,
            "max_height": null,
            "max_width": null,
            "min_height": null,
            "min_width": null,
            "object_fit": null,
            "object_position": null,
            "order": null,
            "overflow": null,
            "overflow_x": null,
            "overflow_y": null,
            "padding": null,
            "right": null,
            "top": null,
            "visibility": null,
            "width": null
          }
        },
        "d6599cfa78a34ee8be2139c1da090a9b": {
          "model_module": "@jupyter-widgets/controls",
          "model_name": "DescriptionStyleModel",
          "model_module_version": "1.5.0",
          "state": {
            "_model_module": "@jupyter-widgets/controls",
            "_model_module_version": "1.5.0",
            "_model_name": "DescriptionStyleModel",
            "_view_count": null,
            "_view_module": "@jupyter-widgets/base",
            "_view_module_version": "1.2.0",
            "_view_name": "StyleView",
            "description_width": ""
          }
        },
        "e1eb31ea098f49e093a6d3244f0b2a3a": {
          "model_module": "@jupyter-widgets/base",
          "model_name": "LayoutModel",
          "model_module_version": "1.2.0",
          "state": {
            "_model_module": "@jupyter-widgets/base",
            "_model_module_version": "1.2.0",
            "_model_name": "LayoutModel",
            "_view_count": null,
            "_view_module": "@jupyter-widgets/base",
            "_view_module_version": "1.2.0",
            "_view_name": "LayoutView",
            "align_content": null,
            "align_items": null,
            "align_self": null,
            "border": null,
            "bottom": null,
            "display": null,
            "flex": null,
            "flex_flow": null,
            "grid_area": null,
            "grid_auto_columns": null,
            "grid_auto_flow": null,
            "grid_auto_rows": null,
            "grid_column": null,
            "grid_gap": null,
            "grid_row": null,
            "grid_template_areas": null,
            "grid_template_columns": null,
            "grid_template_rows": null,
            "height": null,
            "justify_content": null,
            "justify_items": null,
            "left": null,
            "margin": null,
            "max_height": null,
            "max_width": null,
            "min_height": null,
            "min_width": null,
            "object_fit": null,
            "object_position": null,
            "order": null,
            "overflow": null,
            "overflow_x": null,
            "overflow_y": null,
            "padding": null,
            "right": null,
            "top": null,
            "visibility": null,
            "width": null
          }
        },
        "74bbe7a8d0084426a66eed42325e8f44": {
          "model_module": "@jupyter-widgets/controls",
          "model_name": "ProgressStyleModel",
          "model_module_version": "1.5.0",
          "state": {
            "_model_module": "@jupyter-widgets/controls",
            "_model_module_version": "1.5.0",
            "_model_name": "ProgressStyleModel",
            "_view_count": null,
            "_view_module": "@jupyter-widgets/base",
            "_view_module_version": "1.2.0",
            "_view_name": "StyleView",
            "bar_color": null,
            "description_width": ""
          }
        },
        "65bfdbf1279c411087e706e141800249": {
          "model_module": "@jupyter-widgets/base",
          "model_name": "LayoutModel",
          "model_module_version": "1.2.0",
          "state": {
            "_model_module": "@jupyter-widgets/base",
            "_model_module_version": "1.2.0",
            "_model_name": "LayoutModel",
            "_view_count": null,
            "_view_module": "@jupyter-widgets/base",
            "_view_module_version": "1.2.0",
            "_view_name": "LayoutView",
            "align_content": null,
            "align_items": null,
            "align_self": null,
            "border": null,
            "bottom": null,
            "display": null,
            "flex": null,
            "flex_flow": null,
            "grid_area": null,
            "grid_auto_columns": null,
            "grid_auto_flow": null,
            "grid_auto_rows": null,
            "grid_column": null,
            "grid_gap": null,
            "grid_row": null,
            "grid_template_areas": null,
            "grid_template_columns": null,
            "grid_template_rows": null,
            "height": null,
            "justify_content": null,
            "justify_items": null,
            "left": null,
            "margin": null,
            "max_height": null,
            "max_width": null,
            "min_height": null,
            "min_width": null,
            "object_fit": null,
            "object_position": null,
            "order": null,
            "overflow": null,
            "overflow_x": null,
            "overflow_y": null,
            "padding": null,
            "right": null,
            "top": null,
            "visibility": null,
            "width": null
          }
        },
        "706c9922d5f3491e9f4fe3db3871ae85": {
          "model_module": "@jupyter-widgets/controls",
          "model_name": "DescriptionStyleModel",
          "model_module_version": "1.5.0",
          "state": {
            "_model_module": "@jupyter-widgets/controls",
            "_model_module_version": "1.5.0",
            "_model_name": "DescriptionStyleModel",
            "_view_count": null,
            "_view_module": "@jupyter-widgets/base",
            "_view_module_version": "1.2.0",
            "_view_name": "StyleView",
            "description_width": ""
          }
        },
        "c174197c680841dbb7b1f7c9711c29a4": {
          "model_module": "@jupyter-widgets/controls",
          "model_name": "HBoxModel",
          "model_module_version": "1.5.0",
          "state": {
            "_dom_classes": [],
            "_model_module": "@jupyter-widgets/controls",
            "_model_module_version": "1.5.0",
            "_model_name": "HBoxModel",
            "_view_count": null,
            "_view_module": "@jupyter-widgets/controls",
            "_view_module_version": "1.5.0",
            "_view_name": "HBoxView",
            "box_style": "",
            "children": [
              "IPY_MODEL_813005cd52e84dd4a6adc9dbce77c9e4",
              "IPY_MODEL_023eda2d28dc4c9c84daf09ae752dfd2",
              "IPY_MODEL_8b9e3b0c01ef49a89340e7afeb7595b5"
            ],
            "layout": "IPY_MODEL_49aea972a3744fcda047c66698604fd9"
          }
        },
        "813005cd52e84dd4a6adc9dbce77c9e4": {
          "model_module": "@jupyter-widgets/controls",
          "model_name": "HTMLModel",
          "model_module_version": "1.5.0",
          "state": {
            "_dom_classes": [],
            "_model_module": "@jupyter-widgets/controls",
            "_model_module_version": "1.5.0",
            "_model_name": "HTMLModel",
            "_view_count": null,
            "_view_module": "@jupyter-widgets/controls",
            "_view_module_version": "1.5.0",
            "_view_name": "HTMLView",
            "description": "",
            "description_tooltip": null,
            "layout": "IPY_MODEL_0eabde402e894153bc0b7033adf68481",
            "placeholder": "​",
            "style": "IPY_MODEL_c9d07428fa3e4f74822e6aa7d1cf0f3d",
            "value": "Downloading data: 100%"
          }
        },
        "023eda2d28dc4c9c84daf09ae752dfd2": {
          "model_module": "@jupyter-widgets/controls",
          "model_name": "FloatProgressModel",
          "model_module_version": "1.5.0",
          "state": {
            "_dom_classes": [],
            "_model_module": "@jupyter-widgets/controls",
            "_model_module_version": "1.5.0",
            "_model_name": "FloatProgressModel",
            "_view_count": null,
            "_view_module": "@jupyter-widgets/controls",
            "_view_module_version": "1.5.0",
            "_view_name": "ProgressView",
            "bar_style": "success",
            "description": "",
            "description_tooltip": null,
            "layout": "IPY_MODEL_4be4ca0d175d4c7d97453aeb128dde23",
            "max": 75031629,
            "min": 0,
            "orientation": "horizontal",
            "style": "IPY_MODEL_647c086e66c8414ca1544d1b45c24c1b",
            "value": 75031629
          }
        },
        "8b9e3b0c01ef49a89340e7afeb7595b5": {
          "model_module": "@jupyter-widgets/controls",
          "model_name": "HTMLModel",
          "model_module_version": "1.5.0",
          "state": {
            "_dom_classes": [],
            "_model_module": "@jupyter-widgets/controls",
            "_model_module_version": "1.5.0",
            "_model_name": "HTMLModel",
            "_view_count": null,
            "_view_module": "@jupyter-widgets/controls",
            "_view_module_version": "1.5.0",
            "_view_name": "HTMLView",
            "description": "",
            "description_tooltip": null,
            "layout": "IPY_MODEL_7d3413be43184f40ab66ba95bf2a2baa",
            "placeholder": "​",
            "style": "IPY_MODEL_cab8302ab3be4541930c84c0776cf66d",
            "value": " 75.0M/75.0M [00:08&lt;00:00, 8.83MB/s]"
          }
        },
        "49aea972a3744fcda047c66698604fd9": {
          "model_module": "@jupyter-widgets/base",
          "model_name": "LayoutModel",
          "model_module_version": "1.2.0",
          "state": {
            "_model_module": "@jupyter-widgets/base",
            "_model_module_version": "1.2.0",
            "_model_name": "LayoutModel",
            "_view_count": null,
            "_view_module": "@jupyter-widgets/base",
            "_view_module_version": "1.2.0",
            "_view_name": "LayoutView",
            "align_content": null,
            "align_items": null,
            "align_self": null,
            "border": null,
            "bottom": null,
            "display": null,
            "flex": null,
            "flex_flow": null,
            "grid_area": null,
            "grid_auto_columns": null,
            "grid_auto_flow": null,
            "grid_auto_rows": null,
            "grid_column": null,
            "grid_gap": null,
            "grid_row": null,
            "grid_template_areas": null,
            "grid_template_columns": null,
            "grid_template_rows": null,
            "height": null,
            "justify_content": null,
            "justify_items": null,
            "left": null,
            "margin": null,
            "max_height": null,
            "max_width": null,
            "min_height": null,
            "min_width": null,
            "object_fit": null,
            "object_position": null,
            "order": null,
            "overflow": null,
            "overflow_x": null,
            "overflow_y": null,
            "padding": null,
            "right": null,
            "top": null,
            "visibility": null,
            "width": null
          }
        },
        "0eabde402e894153bc0b7033adf68481": {
          "model_module": "@jupyter-widgets/base",
          "model_name": "LayoutModel",
          "model_module_version": "1.2.0",
          "state": {
            "_model_module": "@jupyter-widgets/base",
            "_model_module_version": "1.2.0",
            "_model_name": "LayoutModel",
            "_view_count": null,
            "_view_module": "@jupyter-widgets/base",
            "_view_module_version": "1.2.0",
            "_view_name": "LayoutView",
            "align_content": null,
            "align_items": null,
            "align_self": null,
            "border": null,
            "bottom": null,
            "display": null,
            "flex": null,
            "flex_flow": null,
            "grid_area": null,
            "grid_auto_columns": null,
            "grid_auto_flow": null,
            "grid_auto_rows": null,
            "grid_column": null,
            "grid_gap": null,
            "grid_row": null,
            "grid_template_areas": null,
            "grid_template_columns": null,
            "grid_template_rows": null,
            "height": null,
            "justify_content": null,
            "justify_items": null,
            "left": null,
            "margin": null,
            "max_height": null,
            "max_width": null,
            "min_height": null,
            "min_width": null,
            "object_fit": null,
            "object_position": null,
            "order": null,
            "overflow": null,
            "overflow_x": null,
            "overflow_y": null,
            "padding": null,
            "right": null,
            "top": null,
            "visibility": null,
            "width": null
          }
        },
        "c9d07428fa3e4f74822e6aa7d1cf0f3d": {
          "model_module": "@jupyter-widgets/controls",
          "model_name": "DescriptionStyleModel",
          "model_module_version": "1.5.0",
          "state": {
            "_model_module": "@jupyter-widgets/controls",
            "_model_module_version": "1.5.0",
            "_model_name": "DescriptionStyleModel",
            "_view_count": null,
            "_view_module": "@jupyter-widgets/base",
            "_view_module_version": "1.2.0",
            "_view_name": "StyleView",
            "description_width": ""
          }
        },
        "4be4ca0d175d4c7d97453aeb128dde23": {
          "model_module": "@jupyter-widgets/base",
          "model_name": "LayoutModel",
          "model_module_version": "1.2.0",
          "state": {
            "_model_module": "@jupyter-widgets/base",
            "_model_module_version": "1.2.0",
            "_model_name": "LayoutModel",
            "_view_count": null,
            "_view_module": "@jupyter-widgets/base",
            "_view_module_version": "1.2.0",
            "_view_name": "LayoutView",
            "align_content": null,
            "align_items": null,
            "align_self": null,
            "border": null,
            "bottom": null,
            "display": null,
            "flex": null,
            "flex_flow": null,
            "grid_area": null,
            "grid_auto_columns": null,
            "grid_auto_flow": null,
            "grid_auto_rows": null,
            "grid_column": null,
            "grid_gap": null,
            "grid_row": null,
            "grid_template_areas": null,
            "grid_template_columns": null,
            "grid_template_rows": null,
            "height": null,
            "justify_content": null,
            "justify_items": null,
            "left": null,
            "margin": null,
            "max_height": null,
            "max_width": null,
            "min_height": null,
            "min_width": null,
            "object_fit": null,
            "object_position": null,
            "order": null,
            "overflow": null,
            "overflow_x": null,
            "overflow_y": null,
            "padding": null,
            "right": null,
            "top": null,
            "visibility": null,
            "width": null
          }
        },
        "647c086e66c8414ca1544d1b45c24c1b": {
          "model_module": "@jupyter-widgets/controls",
          "model_name": "ProgressStyleModel",
          "model_module_version": "1.5.0",
          "state": {
            "_model_module": "@jupyter-widgets/controls",
            "_model_module_version": "1.5.0",
            "_model_name": "ProgressStyleModel",
            "_view_count": null,
            "_view_module": "@jupyter-widgets/base",
            "_view_module_version": "1.2.0",
            "_view_name": "StyleView",
            "bar_color": null,
            "description_width": ""
          }
        },
        "7d3413be43184f40ab66ba95bf2a2baa": {
          "model_module": "@jupyter-widgets/base",
          "model_name": "LayoutModel",
          "model_module_version": "1.2.0",
          "state": {
            "_model_module": "@jupyter-widgets/base",
            "_model_module_version": "1.2.0",
            "_model_name": "LayoutModel",
            "_view_count": null,
            "_view_module": "@jupyter-widgets/base",
            "_view_module_version": "1.2.0",
            "_view_name": "LayoutView",
            "align_content": null,
            "align_items": null,
            "align_self": null,
            "border": null,
            "bottom": null,
            "display": null,
            "flex": null,
            "flex_flow": null,
            "grid_area": null,
            "grid_auto_columns": null,
            "grid_auto_flow": null,
            "grid_auto_rows": null,
            "grid_column": null,
            "grid_gap": null,
            "grid_row": null,
            "grid_template_areas": null,
            "grid_template_columns": null,
            "grid_template_rows": null,
            "height": null,
            "justify_content": null,
            "justify_items": null,
            "left": null,
            "margin": null,
            "max_height": null,
            "max_width": null,
            "min_height": null,
            "min_width": null,
            "object_fit": null,
            "object_position": null,
            "order": null,
            "overflow": null,
            "overflow_x": null,
            "overflow_y": null,
            "padding": null,
            "right": null,
            "top": null,
            "visibility": null,
            "width": null
          }
        },
        "cab8302ab3be4541930c84c0776cf66d": {
          "model_module": "@jupyter-widgets/controls",
          "model_name": "DescriptionStyleModel",
          "model_module_version": "1.5.0",
          "state": {
            "_model_module": "@jupyter-widgets/controls",
            "_model_module_version": "1.5.0",
            "_model_name": "DescriptionStyleModel",
            "_view_count": null,
            "_view_module": "@jupyter-widgets/base",
            "_view_module_version": "1.2.0",
            "_view_name": "StyleView",
            "description_width": ""
          }
        },
        "79e78a3e5def49b58d452a4e8f26a8db": {
          "model_module": "@jupyter-widgets/controls",
          "model_name": "HBoxModel",
          "model_module_version": "1.5.0",
          "state": {
            "_dom_classes": [],
            "_model_module": "@jupyter-widgets/controls",
            "_model_module_version": "1.5.0",
            "_model_name": "HBoxModel",
            "_view_count": null,
            "_view_module": "@jupyter-widgets/controls",
            "_view_module_version": "1.5.0",
            "_view_name": "HBoxView",
            "box_style": "",
            "children": [
              "IPY_MODEL_a37afc9c3718497eae24f6b7ece0adbc",
              "IPY_MODEL_9a25a7256b9542138e3787e114c8c691",
              "IPY_MODEL_d7ab9df526cd4cbcb8e50251c9433790"
            ],
            "layout": "IPY_MODEL_e6eda94e598d44a1ba5475f17db542fc"
          }
        },
        "a37afc9c3718497eae24f6b7ece0adbc": {
          "model_module": "@jupyter-widgets/controls",
          "model_name": "HTMLModel",
          "model_module_version": "1.5.0",
          "state": {
            "_dom_classes": [],
            "_model_module": "@jupyter-widgets/controls",
            "_model_module_version": "1.5.0",
            "_model_name": "HTMLModel",
            "_view_count": null,
            "_view_module": "@jupyter-widgets/controls",
            "_view_module_version": "1.5.0",
            "_view_name": "HTMLView",
            "description": "",
            "description_tooltip": null,
            "layout": "IPY_MODEL_03b079e891554e8daeb9abed5d2417d0",
            "placeholder": "​",
            "style": "IPY_MODEL_39d271908c76401c91f41997ee9aafbb",
            "value": "Generating train split: "
          }
        },
        "9a25a7256b9542138e3787e114c8c691": {
          "model_module": "@jupyter-widgets/controls",
          "model_name": "FloatProgressModel",
          "model_module_version": "1.5.0",
          "state": {
            "_dom_classes": [],
            "_model_module": "@jupyter-widgets/controls",
            "_model_module_version": "1.5.0",
            "_model_name": "FloatProgressModel",
            "_view_count": null,
            "_view_module": "@jupyter-widgets/controls",
            "_view_module_version": "1.5.0",
            "_view_name": "ProgressView",
            "bar_style": "success",
            "description": "",
            "description_tooltip": null,
            "layout": "IPY_MODEL_a074664bf2ea442880aac096957e954f",
            "max": 1,
            "min": 0,
            "orientation": "horizontal",
            "style": "IPY_MODEL_2388ede3ff02452aaef7e76723b8ac59",
            "value": 1
          }
        },
        "d7ab9df526cd4cbcb8e50251c9433790": {
          "model_module": "@jupyter-widgets/controls",
          "model_name": "HTMLModel",
          "model_module_version": "1.5.0",
          "state": {
            "_dom_classes": [],
            "_model_module": "@jupyter-widgets/controls",
            "_model_module_version": "1.5.0",
            "_model_name": "HTMLModel",
            "_view_count": null,
            "_view_module": "@jupyter-widgets/controls",
            "_view_module_version": "1.5.0",
            "_view_name": "HTMLView",
            "description": "",
            "description_tooltip": null,
            "layout": "IPY_MODEL_19fb6311f5b74240ab38d532e4507325",
            "placeholder": "​",
            "style": "IPY_MODEL_44b698b4571743bf80a174ac2593852f",
            "value": " 30671/0 [00:01&lt;00:00, 20710.87 examples/s]"
          }
        },
        "e6eda94e598d44a1ba5475f17db542fc": {
          "model_module": "@jupyter-widgets/base",
          "model_name": "LayoutModel",
          "model_module_version": "1.2.0",
          "state": {
            "_model_module": "@jupyter-widgets/base",
            "_model_module_version": "1.2.0",
            "_model_name": "LayoutModel",
            "_view_count": null,
            "_view_module": "@jupyter-widgets/base",
            "_view_module_version": "1.2.0",
            "_view_name": "LayoutView",
            "align_content": null,
            "align_items": null,
            "align_self": null,
            "border": null,
            "bottom": null,
            "display": null,
            "flex": null,
            "flex_flow": null,
            "grid_area": null,
            "grid_auto_columns": null,
            "grid_auto_flow": null,
            "grid_auto_rows": null,
            "grid_column": null,
            "grid_gap": null,
            "grid_row": null,
            "grid_template_areas": null,
            "grid_template_columns": null,
            "grid_template_rows": null,
            "height": null,
            "justify_content": null,
            "justify_items": null,
            "left": null,
            "margin": null,
            "max_height": null,
            "max_width": null,
            "min_height": null,
            "min_width": null,
            "object_fit": null,
            "object_position": null,
            "order": null,
            "overflow": null,
            "overflow_x": null,
            "overflow_y": null,
            "padding": null,
            "right": null,
            "top": null,
            "visibility": null,
            "width": null
          }
        },
        "03b079e891554e8daeb9abed5d2417d0": {
          "model_module": "@jupyter-widgets/base",
          "model_name": "LayoutModel",
          "model_module_version": "1.2.0",
          "state": {
            "_model_module": "@jupyter-widgets/base",
            "_model_module_version": "1.2.0",
            "_model_name": "LayoutModel",
            "_view_count": null,
            "_view_module": "@jupyter-widgets/base",
            "_view_module_version": "1.2.0",
            "_view_name": "LayoutView",
            "align_content": null,
            "align_items": null,
            "align_self": null,
            "border": null,
            "bottom": null,
            "display": null,
            "flex": null,
            "flex_flow": null,
            "grid_area": null,
            "grid_auto_columns": null,
            "grid_auto_flow": null,
            "grid_auto_rows": null,
            "grid_column": null,
            "grid_gap": null,
            "grid_row": null,
            "grid_template_areas": null,
            "grid_template_columns": null,
            "grid_template_rows": null,
            "height": null,
            "justify_content": null,
            "justify_items": null,
            "left": null,
            "margin": null,
            "max_height": null,
            "max_width": null,
            "min_height": null,
            "min_width": null,
            "object_fit": null,
            "object_position": null,
            "order": null,
            "overflow": null,
            "overflow_x": null,
            "overflow_y": null,
            "padding": null,
            "right": null,
            "top": null,
            "visibility": null,
            "width": null
          }
        },
        "39d271908c76401c91f41997ee9aafbb": {
          "model_module": "@jupyter-widgets/controls",
          "model_name": "DescriptionStyleModel",
          "model_module_version": "1.5.0",
          "state": {
            "_model_module": "@jupyter-widgets/controls",
            "_model_module_version": "1.5.0",
            "_model_name": "DescriptionStyleModel",
            "_view_count": null,
            "_view_module": "@jupyter-widgets/base",
            "_view_module_version": "1.2.0",
            "_view_name": "StyleView",
            "description_width": ""
          }
        },
        "a074664bf2ea442880aac096957e954f": {
          "model_module": "@jupyter-widgets/base",
          "model_name": "LayoutModel",
          "model_module_version": "1.2.0",
          "state": {
            "_model_module": "@jupyter-widgets/base",
            "_model_module_version": "1.2.0",
            "_model_name": "LayoutModel",
            "_view_count": null,
            "_view_module": "@jupyter-widgets/base",
            "_view_module_version": "1.2.0",
            "_view_name": "LayoutView",
            "align_content": null,
            "align_items": null,
            "align_self": null,
            "border": null,
            "bottom": null,
            "display": null,
            "flex": null,
            "flex_flow": null,
            "grid_area": null,
            "grid_auto_columns": null,
            "grid_auto_flow": null,
            "grid_auto_rows": null,
            "grid_column": null,
            "grid_gap": null,
            "grid_row": null,
            "grid_template_areas": null,
            "grid_template_columns": null,
            "grid_template_rows": null,
            "height": null,
            "justify_content": null,
            "justify_items": null,
            "left": null,
            "margin": null,
            "max_height": null,
            "max_width": null,
            "min_height": null,
            "min_width": null,
            "object_fit": null,
            "object_position": null,
            "order": null,
            "overflow": null,
            "overflow_x": null,
            "overflow_y": null,
            "padding": null,
            "right": null,
            "top": null,
            "visibility": null,
            "width": "20px"
          }
        },
        "2388ede3ff02452aaef7e76723b8ac59": {
          "model_module": "@jupyter-widgets/controls",
          "model_name": "ProgressStyleModel",
          "model_module_version": "1.5.0",
          "state": {
            "_model_module": "@jupyter-widgets/controls",
            "_model_module_version": "1.5.0",
            "_model_name": "ProgressStyleModel",
            "_view_count": null,
            "_view_module": "@jupyter-widgets/base",
            "_view_module_version": "1.2.0",
            "_view_name": "StyleView",
            "bar_color": null,
            "description_width": ""
          }
        },
        "19fb6311f5b74240ab38d532e4507325": {
          "model_module": "@jupyter-widgets/base",
          "model_name": "LayoutModel",
          "model_module_version": "1.2.0",
          "state": {
            "_model_module": "@jupyter-widgets/base",
            "_model_module_version": "1.2.0",
            "_model_name": "LayoutModel",
            "_view_count": null,
            "_view_module": "@jupyter-widgets/base",
            "_view_module_version": "1.2.0",
            "_view_name": "LayoutView",
            "align_content": null,
            "align_items": null,
            "align_self": null,
            "border": null,
            "bottom": null,
            "display": null,
            "flex": null,
            "flex_flow": null,
            "grid_area": null,
            "grid_auto_columns": null,
            "grid_auto_flow": null,
            "grid_auto_rows": null,
            "grid_column": null,
            "grid_gap": null,
            "grid_row": null,
            "grid_template_areas": null,
            "grid_template_columns": null,
            "grid_template_rows": null,
            "height": null,
            "justify_content": null,
            "justify_items": null,
            "left": null,
            "margin": null,
            "max_height": null,
            "max_width": null,
            "min_height": null,
            "min_width": null,
            "object_fit": null,
            "object_position": null,
            "order": null,
            "overflow": null,
            "overflow_x": null,
            "overflow_y": null,
            "padding": null,
            "right": null,
            "top": null,
            "visibility": null,
            "width": null
          }
        },
        "44b698b4571743bf80a174ac2593852f": {
          "model_module": "@jupyter-widgets/controls",
          "model_name": "DescriptionStyleModel",
          "model_module_version": "1.5.0",
          "state": {
            "_model_module": "@jupyter-widgets/controls",
            "_model_module_version": "1.5.0",
            "_model_name": "DescriptionStyleModel",
            "_view_count": null,
            "_view_module": "@jupyter-widgets/base",
            "_view_module_version": "1.2.0",
            "_view_name": "StyleView",
            "description_width": ""
          }
        },
        "75a04f06d34a4297811960b8a3d7998a": {
          "model_module": "@jupyter-widgets/controls",
          "model_name": "HBoxModel",
          "model_module_version": "1.5.0",
          "state": {
            "_dom_classes": [],
            "_model_module": "@jupyter-widgets/controls",
            "_model_module_version": "1.5.0",
            "_model_name": "HBoxModel",
            "_view_count": null,
            "_view_module": "@jupyter-widgets/controls",
            "_view_module_version": "1.5.0",
            "_view_name": "HBoxView",
            "box_style": "",
            "children": [
              "IPY_MODEL_4e191bf5e97f4021b49c9189d167c014",
              "IPY_MODEL_7e8a7af3b45e47eaac5e8e37707626c4",
              "IPY_MODEL_1445e94ace6d44d3bd4fbd190690e303"
            ],
            "layout": "IPY_MODEL_805a89be02fa4612b37369f90bc57b8c"
          }
        },
        "4e191bf5e97f4021b49c9189d167c014": {
          "model_module": "@jupyter-widgets/controls",
          "model_name": "HTMLModel",
          "model_module_version": "1.5.0",
          "state": {
            "_dom_classes": [],
            "_model_module": "@jupyter-widgets/controls",
            "_model_module_version": "1.5.0",
            "_model_name": "HTMLModel",
            "_view_count": null,
            "_view_module": "@jupyter-widgets/controls",
            "_view_module_version": "1.5.0",
            "_view_name": "HTMLView",
            "description": "",
            "description_tooltip": null,
            "layout": "IPY_MODEL_0ec5116b16084c178d877cf0f708b7f0",
            "placeholder": "​",
            "style": "IPY_MODEL_9e649adc848d4d2786bd4a84234031eb",
            "value": "Batches: 100%"
          }
        },
        "7e8a7af3b45e47eaac5e8e37707626c4": {
          "model_module": "@jupyter-widgets/controls",
          "model_name": "FloatProgressModel",
          "model_module_version": "1.5.0",
          "state": {
            "_dom_classes": [],
            "_model_module": "@jupyter-widgets/controls",
            "_model_module_version": "1.5.0",
            "_model_name": "FloatProgressModel",
            "_view_count": null,
            "_view_module": "@jupyter-widgets/controls",
            "_view_module_version": "1.5.0",
            "_view_name": "ProgressView",
            "bar_style": "success",
            "description": "",
            "description_tooltip": null,
            "layout": "IPY_MODEL_74c53297b7aa49d3847ad27f59e9612a",
            "max": 32,
            "min": 0,
            "orientation": "horizontal",
            "style": "IPY_MODEL_179cdad069474789b4728121505b6973",
            "value": 32
          }
        },
        "1445e94ace6d44d3bd4fbd190690e303": {
          "model_module": "@jupyter-widgets/controls",
          "model_name": "HTMLModel",
          "model_module_version": "1.5.0",
          "state": {
            "_dom_classes": [],
            "_model_module": "@jupyter-widgets/controls",
            "_model_module_version": "1.5.0",
            "_model_name": "HTMLModel",
            "_view_count": null,
            "_view_module": "@jupyter-widgets/controls",
            "_view_module_version": "1.5.0",
            "_view_name": "HTMLView",
            "description": "",
            "description_tooltip": null,
            "layout": "IPY_MODEL_ad84e447af654460b85c93628164ad36",
            "placeholder": "​",
            "style": "IPY_MODEL_2d36573598f54d17a137436810873d30",
            "value": " 32/32 [00:08&lt;00:00, 10.91it/s]"
          }
        },
        "805a89be02fa4612b37369f90bc57b8c": {
          "model_module": "@jupyter-widgets/base",
          "model_name": "LayoutModel",
          "model_module_version": "1.2.0",
          "state": {
            "_model_module": "@jupyter-widgets/base",
            "_model_module_version": "1.2.0",
            "_model_name": "LayoutModel",
            "_view_count": null,
            "_view_module": "@jupyter-widgets/base",
            "_view_module_version": "1.2.0",
            "_view_name": "LayoutView",
            "align_content": null,
            "align_items": null,
            "align_self": null,
            "border": null,
            "bottom": null,
            "display": null,
            "flex": null,
            "flex_flow": null,
            "grid_area": null,
            "grid_auto_columns": null,
            "grid_auto_flow": null,
            "grid_auto_rows": null,
            "grid_column": null,
            "grid_gap": null,
            "grid_row": null,
            "grid_template_areas": null,
            "grid_template_columns": null,
            "grid_template_rows": null,
            "height": null,
            "justify_content": null,
            "justify_items": null,
            "left": null,
            "margin": null,
            "max_height": null,
            "max_width": null,
            "min_height": null,
            "min_width": null,
            "object_fit": null,
            "object_position": null,
            "order": null,
            "overflow": null,
            "overflow_x": null,
            "overflow_y": null,
            "padding": null,
            "right": null,
            "top": null,
            "visibility": null,
            "width": null
          }
        },
        "0ec5116b16084c178d877cf0f708b7f0": {
          "model_module": "@jupyter-widgets/base",
          "model_name": "LayoutModel",
          "model_module_version": "1.2.0",
          "state": {
            "_model_module": "@jupyter-widgets/base",
            "_model_module_version": "1.2.0",
            "_model_name": "LayoutModel",
            "_view_count": null,
            "_view_module": "@jupyter-widgets/base",
            "_view_module_version": "1.2.0",
            "_view_name": "LayoutView",
            "align_content": null,
            "align_items": null,
            "align_self": null,
            "border": null,
            "bottom": null,
            "display": null,
            "flex": null,
            "flex_flow": null,
            "grid_area": null,
            "grid_auto_columns": null,
            "grid_auto_flow": null,
            "grid_auto_rows": null,
            "grid_column": null,
            "grid_gap": null,
            "grid_row": null,
            "grid_template_areas": null,
            "grid_template_columns": null,
            "grid_template_rows": null,
            "height": null,
            "justify_content": null,
            "justify_items": null,
            "left": null,
            "margin": null,
            "max_height": null,
            "max_width": null,
            "min_height": null,
            "min_width": null,
            "object_fit": null,
            "object_position": null,
            "order": null,
            "overflow": null,
            "overflow_x": null,
            "overflow_y": null,
            "padding": null,
            "right": null,
            "top": null,
            "visibility": null,
            "width": null
          }
        },
        "9e649adc848d4d2786bd4a84234031eb": {
          "model_module": "@jupyter-widgets/controls",
          "model_name": "DescriptionStyleModel",
          "model_module_version": "1.5.0",
          "state": {
            "_model_module": "@jupyter-widgets/controls",
            "_model_module_version": "1.5.0",
            "_model_name": "DescriptionStyleModel",
            "_view_count": null,
            "_view_module": "@jupyter-widgets/base",
            "_view_module_version": "1.2.0",
            "_view_name": "StyleView",
            "description_width": ""
          }
        },
        "74c53297b7aa49d3847ad27f59e9612a": {
          "model_module": "@jupyter-widgets/base",
          "model_name": "LayoutModel",
          "model_module_version": "1.2.0",
          "state": {
            "_model_module": "@jupyter-widgets/base",
            "_model_module_version": "1.2.0",
            "_model_name": "LayoutModel",
            "_view_count": null,
            "_view_module": "@jupyter-widgets/base",
            "_view_module_version": "1.2.0",
            "_view_name": "LayoutView",
            "align_content": null,
            "align_items": null,
            "align_self": null,
            "border": null,
            "bottom": null,
            "display": null,
            "flex": null,
            "flex_flow": null,
            "grid_area": null,
            "grid_auto_columns": null,
            "grid_auto_flow": null,
            "grid_auto_rows": null,
            "grid_column": null,
            "grid_gap": null,
            "grid_row": null,
            "grid_template_areas": null,
            "grid_template_columns": null,
            "grid_template_rows": null,
            "height": null,
            "justify_content": null,
            "justify_items": null,
            "left": null,
            "margin": null,
            "max_height": null,
            "max_width": null,
            "min_height": null,
            "min_width": null,
            "object_fit": null,
            "object_position": null,
            "order": null,
            "overflow": null,
            "overflow_x": null,
            "overflow_y": null,
            "padding": null,
            "right": null,
            "top": null,
            "visibility": null,
            "width": null
          }
        },
        "179cdad069474789b4728121505b6973": {
          "model_module": "@jupyter-widgets/controls",
          "model_name": "ProgressStyleModel",
          "model_module_version": "1.5.0",
          "state": {
            "_model_module": "@jupyter-widgets/controls",
            "_model_module_version": "1.5.0",
            "_model_name": "ProgressStyleModel",
            "_view_count": null,
            "_view_module": "@jupyter-widgets/base",
            "_view_module_version": "1.2.0",
            "_view_name": "StyleView",
            "bar_color": null,
            "description_width": ""
          }
        },
        "ad84e447af654460b85c93628164ad36": {
          "model_module": "@jupyter-widgets/base",
          "model_name": "LayoutModel",
          "model_module_version": "1.2.0",
          "state": {
            "_model_module": "@jupyter-widgets/base",
            "_model_module_version": "1.2.0",
            "_model_name": "LayoutModel",
            "_view_count": null,
            "_view_module": "@jupyter-widgets/base",
            "_view_module_version": "1.2.0",
            "_view_name": "LayoutView",
            "align_content": null,
            "align_items": null,
            "align_self": null,
            "border": null,
            "bottom": null,
            "display": null,
            "flex": null,
            "flex_flow": null,
            "grid_area": null,
            "grid_auto_columns": null,
            "grid_auto_flow": null,
            "grid_auto_rows": null,
            "grid_column": null,
            "grid_gap": null,
            "grid_row": null,
            "grid_template_areas": null,
            "grid_template_columns": null,
            "grid_template_rows": null,
            "height": null,
            "justify_content": null,
            "justify_items": null,
            "left": null,
            "margin": null,
            "max_height": null,
            "max_width": null,
            "min_height": null,
            "min_width": null,
            "object_fit": null,
            "object_position": null,
            "order": null,
            "overflow": null,
            "overflow_x": null,
            "overflow_y": null,
            "padding": null,
            "right": null,
            "top": null,
            "visibility": null,
            "width": null
          }
        },
        "2d36573598f54d17a137436810873d30": {
          "model_module": "@jupyter-widgets/controls",
          "model_name": "DescriptionStyleModel",
          "model_module_version": "1.5.0",
          "state": {
            "_model_module": "@jupyter-widgets/controls",
            "_model_module_version": "1.5.0",
            "_model_name": "DescriptionStyleModel",
            "_view_count": null,
            "_view_module": "@jupyter-widgets/base",
            "_view_module_version": "1.2.0",
            "_view_name": "StyleView",
            "description_width": ""
          }
        }
      }
    }
  },
  "cells": [
    {
      "cell_type": "markdown",
      "metadata": {
        "id": "view-in-github",
        "colab_type": "text"
      },
      "source": [
        "<a href=\"https://colab.research.google.com/github/Sydney-Kelly/Search-For-Movie-Plots/blob/main/semantic_search.ipynb\" target=\"_parent\"><img src=\"https://colab.research.google.com/assets/colab-badge.svg\" alt=\"Open In Colab\"/></a>"
      ]
    },
    {
      "cell_type": "markdown",
      "metadata": {
        "id": "AF_x5L0e9r8A"
      },
      "source": [
        "# Semantic Search - Wikipedia Question-Answer-Retrieval\n",
        "\n",
        "This examples demonstrates the setup for Question-Answer-Retrieval.\n",
        "\n",
        "You can input a query or a question. The script then uses semantic search\n",
        "to find relevant passages in Simple English Wikipedia (as it is smaller and fits better in RAM).\n",
        "\n",
        "As model, we use: nq-distilbert-base-v1\n",
        "\n",
        "It was trained on the Natural Questions dataset, a dataset with real questions from Google Search together with annotated data from Wikipedia providing the answer. For the passages, we encode the Wikipedia article tile together with the individual text passages."
      ]
    },
    {
      "cell_type": "markdown",
      "source": [
        "##Installing and importing packages and dependecies"
      ],
      "metadata": {
        "id": "OfkIkPpf4Avb"
      }
    },
    {
      "cell_type": "code",
      "metadata": {
        "id": "hJbZ22zZ7yPi",
        "colab": {
          "base_uri": "https://localhost:8080/"
        },
        "outputId": "e2b8d5cd-cf67-43a5-b66d-2d1d5b90420a"
      },
      "source": [
        "!pip install -U sentence-transformers"
      ],
      "execution_count": 1,
      "outputs": [
        {
          "output_type": "stream",
          "name": "stdout",
          "text": [
            "Collecting sentence-transformers\n",
            "  Downloading sentence_transformers-2.6.1-py3-none-any.whl (163 kB)\n",
            "\u001b[?25l     \u001b[90m━━━━━━━━━━━━━━━━━━━━━━━━━━━━━━━━━━━━━━━━\u001b[0m \u001b[32m0.0/163.3 kB\u001b[0m \u001b[31m?\u001b[0m eta \u001b[36m-:--:--\u001b[0m\r\u001b[2K     \u001b[91m━━━━━━━━━━━━━━━\u001b[0m\u001b[90m╺\u001b[0m\u001b[90m━━━━━━━━━━━━━━━━━━━━━━━━\u001b[0m \u001b[32m61.4/163.3 kB\u001b[0m \u001b[31m1.6 MB/s\u001b[0m eta \u001b[36m0:00:01\u001b[0m\r\u001b[2K     \u001b[90m━━━━━━━━━━━━━━━━━━━━━━━━━━━━━━━━━━━━━━━━\u001b[0m \u001b[32m163.3/163.3 kB\u001b[0m \u001b[31m2.7 MB/s\u001b[0m eta \u001b[36m0:00:00\u001b[0m\n",
            "\u001b[?25hRequirement already satisfied: transformers<5.0.0,>=4.32.0 in /usr/local/lib/python3.10/dist-packages (from sentence-transformers) (4.38.2)\n",
            "Requirement already satisfied: tqdm in /usr/local/lib/python3.10/dist-packages (from sentence-transformers) (4.66.2)\n",
            "Requirement already satisfied: torch>=1.11.0 in /usr/local/lib/python3.10/dist-packages (from sentence-transformers) (2.2.1+cu121)\n",
            "Requirement already satisfied: numpy in /usr/local/lib/python3.10/dist-packages (from sentence-transformers) (1.25.2)\n",
            "Requirement already satisfied: scikit-learn in /usr/local/lib/python3.10/dist-packages (from sentence-transformers) (1.2.2)\n",
            "Requirement already satisfied: scipy in /usr/local/lib/python3.10/dist-packages (from sentence-transformers) (1.11.4)\n",
            "Requirement already satisfied: huggingface-hub>=0.15.1 in /usr/local/lib/python3.10/dist-packages (from sentence-transformers) (0.20.3)\n",
            "Requirement already satisfied: Pillow in /usr/local/lib/python3.10/dist-packages (from sentence-transformers) (9.4.0)\n",
            "Requirement already satisfied: filelock in /usr/local/lib/python3.10/dist-packages (from huggingface-hub>=0.15.1->sentence-transformers) (3.13.4)\n",
            "Requirement already satisfied: fsspec>=2023.5.0 in /usr/local/lib/python3.10/dist-packages (from huggingface-hub>=0.15.1->sentence-transformers) (2023.6.0)\n",
            "Requirement already satisfied: requests in /usr/local/lib/python3.10/dist-packages (from huggingface-hub>=0.15.1->sentence-transformers) (2.31.0)\n",
            "Requirement already satisfied: pyyaml>=5.1 in /usr/local/lib/python3.10/dist-packages (from huggingface-hub>=0.15.1->sentence-transformers) (6.0.1)\n",
            "Requirement already satisfied: typing-extensions>=3.7.4.3 in /usr/local/lib/python3.10/dist-packages (from huggingface-hub>=0.15.1->sentence-transformers) (4.11.0)\n",
            "Requirement already satisfied: packaging>=20.9 in /usr/local/lib/python3.10/dist-packages (from huggingface-hub>=0.15.1->sentence-transformers) (24.0)\n",
            "Requirement already satisfied: sympy in /usr/local/lib/python3.10/dist-packages (from torch>=1.11.0->sentence-transformers) (1.12)\n",
            "Requirement already satisfied: networkx in /usr/local/lib/python3.10/dist-packages (from torch>=1.11.0->sentence-transformers) (3.3)\n",
            "Requirement already satisfied: jinja2 in /usr/local/lib/python3.10/dist-packages (from torch>=1.11.0->sentence-transformers) (3.1.3)\n",
            "Collecting nvidia-cuda-nvrtc-cu12==12.1.105 (from torch>=1.11.0->sentence-transformers)\n",
            "  Using cached nvidia_cuda_nvrtc_cu12-12.1.105-py3-none-manylinux1_x86_64.whl (23.7 MB)\n",
            "Collecting nvidia-cuda-runtime-cu12==12.1.105 (from torch>=1.11.0->sentence-transformers)\n",
            "  Using cached nvidia_cuda_runtime_cu12-12.1.105-py3-none-manylinux1_x86_64.whl (823 kB)\n",
            "Collecting nvidia-cuda-cupti-cu12==12.1.105 (from torch>=1.11.0->sentence-transformers)\n",
            "  Using cached nvidia_cuda_cupti_cu12-12.1.105-py3-none-manylinux1_x86_64.whl (14.1 MB)\n",
            "Collecting nvidia-cudnn-cu12==8.9.2.26 (from torch>=1.11.0->sentence-transformers)\n",
            "  Using cached nvidia_cudnn_cu12-8.9.2.26-py3-none-manylinux1_x86_64.whl (731.7 MB)\n",
            "Collecting nvidia-cublas-cu12==12.1.3.1 (from torch>=1.11.0->sentence-transformers)\n",
            "  Using cached nvidia_cublas_cu12-12.1.3.1-py3-none-manylinux1_x86_64.whl (410.6 MB)\n",
            "Collecting nvidia-cufft-cu12==11.0.2.54 (from torch>=1.11.0->sentence-transformers)\n",
            "  Using cached nvidia_cufft_cu12-11.0.2.54-py3-none-manylinux1_x86_64.whl (121.6 MB)\n",
            "Collecting nvidia-curand-cu12==10.3.2.106 (from torch>=1.11.0->sentence-transformers)\n",
            "  Using cached nvidia_curand_cu12-10.3.2.106-py3-none-manylinux1_x86_64.whl (56.5 MB)\n",
            "Collecting nvidia-cusolver-cu12==11.4.5.107 (from torch>=1.11.0->sentence-transformers)\n",
            "  Using cached nvidia_cusolver_cu12-11.4.5.107-py3-none-manylinux1_x86_64.whl (124.2 MB)\n",
            "Collecting nvidia-cusparse-cu12==12.1.0.106 (from torch>=1.11.0->sentence-transformers)\n",
            "  Using cached nvidia_cusparse_cu12-12.1.0.106-py3-none-manylinux1_x86_64.whl (196.0 MB)\n",
            "Collecting nvidia-nccl-cu12==2.19.3 (from torch>=1.11.0->sentence-transformers)\n",
            "  Using cached nvidia_nccl_cu12-2.19.3-py3-none-manylinux1_x86_64.whl (166.0 MB)\n",
            "Collecting nvidia-nvtx-cu12==12.1.105 (from torch>=1.11.0->sentence-transformers)\n",
            "  Using cached nvidia_nvtx_cu12-12.1.105-py3-none-manylinux1_x86_64.whl (99 kB)\n",
            "Requirement already satisfied: triton==2.2.0 in /usr/local/lib/python3.10/dist-packages (from torch>=1.11.0->sentence-transformers) (2.2.0)\n",
            "Collecting nvidia-nvjitlink-cu12 (from nvidia-cusolver-cu12==11.4.5.107->torch>=1.11.0->sentence-transformers)\n",
            "  Using cached nvidia_nvjitlink_cu12-12.4.127-py3-none-manylinux2014_x86_64.whl (21.1 MB)\n",
            "Requirement already satisfied: regex!=2019.12.17 in /usr/local/lib/python3.10/dist-packages (from transformers<5.0.0,>=4.32.0->sentence-transformers) (2023.12.25)\n",
            "Requirement already satisfied: tokenizers<0.19,>=0.14 in /usr/local/lib/python3.10/dist-packages (from transformers<5.0.0,>=4.32.0->sentence-transformers) (0.15.2)\n",
            "Requirement already satisfied: safetensors>=0.4.1 in /usr/local/lib/python3.10/dist-packages (from transformers<5.0.0,>=4.32.0->sentence-transformers) (0.4.2)\n",
            "Requirement already satisfied: joblib>=1.1.1 in /usr/local/lib/python3.10/dist-packages (from scikit-learn->sentence-transformers) (1.4.0)\n",
            "Requirement already satisfied: threadpoolctl>=2.0.0 in /usr/local/lib/python3.10/dist-packages (from scikit-learn->sentence-transformers) (3.4.0)\n",
            "Requirement already satisfied: MarkupSafe>=2.0 in /usr/local/lib/python3.10/dist-packages (from jinja2->torch>=1.11.0->sentence-transformers) (2.1.5)\n",
            "Requirement already satisfied: charset-normalizer<4,>=2 in /usr/local/lib/python3.10/dist-packages (from requests->huggingface-hub>=0.15.1->sentence-transformers) (3.3.2)\n",
            "Requirement already satisfied: idna<4,>=2.5 in /usr/local/lib/python3.10/dist-packages (from requests->huggingface-hub>=0.15.1->sentence-transformers) (3.6)\n",
            "Requirement already satisfied: urllib3<3,>=1.21.1 in /usr/local/lib/python3.10/dist-packages (from requests->huggingface-hub>=0.15.1->sentence-transformers) (2.0.7)\n",
            "Requirement already satisfied: certifi>=2017.4.17 in /usr/local/lib/python3.10/dist-packages (from requests->huggingface-hub>=0.15.1->sentence-transformers) (2024.2.2)\n",
            "Requirement already satisfied: mpmath>=0.19 in /usr/local/lib/python3.10/dist-packages (from sympy->torch>=1.11.0->sentence-transformers) (1.3.0)\n",
            "Installing collected packages: nvidia-nvtx-cu12, nvidia-nvjitlink-cu12, nvidia-nccl-cu12, nvidia-curand-cu12, nvidia-cufft-cu12, nvidia-cuda-runtime-cu12, nvidia-cuda-nvrtc-cu12, nvidia-cuda-cupti-cu12, nvidia-cublas-cu12, nvidia-cusparse-cu12, nvidia-cudnn-cu12, nvidia-cusolver-cu12, sentence-transformers\n",
            "Successfully installed nvidia-cublas-cu12-12.1.3.1 nvidia-cuda-cupti-cu12-12.1.105 nvidia-cuda-nvrtc-cu12-12.1.105 nvidia-cuda-runtime-cu12-12.1.105 nvidia-cudnn-cu12-8.9.2.26 nvidia-cufft-cu12-11.0.2.54 nvidia-curand-cu12-10.3.2.106 nvidia-cusolver-cu12-11.4.5.107 nvidia-cusparse-cu12-12.1.0.106 nvidia-nccl-cu12-2.19.3 nvidia-nvjitlink-cu12-12.4.127 nvidia-nvtx-cu12-12.1.105 sentence-transformers-2.6.1\n"
          ]
        }
      ]
    },
    {
      "cell_type": "code",
      "source": [
        "!pip install datasets"
      ],
      "metadata": {
        "colab": {
          "base_uri": "https://localhost:8080/"
        },
        "id": "N0XCFIFX13OF",
        "outputId": "1a106235-70e4-4c5f-8586-00f560a2f5a8"
      },
      "execution_count": 2,
      "outputs": [
        {
          "output_type": "stream",
          "name": "stdout",
          "text": [
            "Collecting datasets\n",
            "  Downloading datasets-2.18.0-py3-none-any.whl (510 kB)\n",
            "\u001b[2K     \u001b[90m━━━━━━━━━━━━━━━━━━━━━━━━━━━━━━━━━━━━━━━━\u001b[0m \u001b[32m510.5/510.5 kB\u001b[0m \u001b[31m11.2 MB/s\u001b[0m eta \u001b[36m0:00:00\u001b[0m\n",
            "\u001b[?25hRequirement already satisfied: filelock in /usr/local/lib/python3.10/dist-packages (from datasets) (3.13.4)\n",
            "Requirement already satisfied: numpy>=1.17 in /usr/local/lib/python3.10/dist-packages (from datasets) (1.25.2)\n",
            "Requirement already satisfied: pyarrow>=12.0.0 in /usr/local/lib/python3.10/dist-packages (from datasets) (14.0.2)\n",
            "Requirement already satisfied: pyarrow-hotfix in /usr/local/lib/python3.10/dist-packages (from datasets) (0.6)\n",
            "Collecting dill<0.3.9,>=0.3.0 (from datasets)\n",
            "  Downloading dill-0.3.8-py3-none-any.whl (116 kB)\n",
            "\u001b[2K     \u001b[90m━━━━━━━━━━━━━━━━━━━━━━━━━━━━━━━━━━━━━━━━\u001b[0m \u001b[32m116.3/116.3 kB\u001b[0m \u001b[31m15.4 MB/s\u001b[0m eta \u001b[36m0:00:00\u001b[0m\n",
            "\u001b[?25hRequirement already satisfied: pandas in /usr/local/lib/python3.10/dist-packages (from datasets) (2.0.3)\n",
            "Requirement already satisfied: requests>=2.19.0 in /usr/local/lib/python3.10/dist-packages (from datasets) (2.31.0)\n",
            "Requirement already satisfied: tqdm>=4.62.1 in /usr/local/lib/python3.10/dist-packages (from datasets) (4.66.2)\n",
            "Collecting xxhash (from datasets)\n",
            "  Downloading xxhash-3.4.1-cp310-cp310-manylinux_2_17_x86_64.manylinux2014_x86_64.whl (194 kB)\n",
            "\u001b[2K     \u001b[90m━━━━━━━━━━━━━━━━━━━━━━━━━━━━━━━━━━━━━━━━\u001b[0m \u001b[32m194.1/194.1 kB\u001b[0m \u001b[31m24.8 MB/s\u001b[0m eta \u001b[36m0:00:00\u001b[0m\n",
            "\u001b[?25hCollecting multiprocess (from datasets)\n",
            "  Downloading multiprocess-0.70.16-py310-none-any.whl (134 kB)\n",
            "\u001b[2K     \u001b[90m━━━━━━━━━━━━━━━━━━━━━━━━━━━━━━━━━━━━━━━━\u001b[0m \u001b[32m134.8/134.8 kB\u001b[0m \u001b[31m18.3 MB/s\u001b[0m eta \u001b[36m0:00:00\u001b[0m\n",
            "\u001b[?25hRequirement already satisfied: fsspec[http]<=2024.2.0,>=2023.1.0 in /usr/local/lib/python3.10/dist-packages (from datasets) (2023.6.0)\n",
            "Requirement already satisfied: aiohttp in /usr/local/lib/python3.10/dist-packages (from datasets) (3.9.3)\n",
            "Requirement already satisfied: huggingface-hub>=0.19.4 in /usr/local/lib/python3.10/dist-packages (from datasets) (0.20.3)\n",
            "Requirement already satisfied: packaging in /usr/local/lib/python3.10/dist-packages (from datasets) (24.0)\n",
            "Requirement already satisfied: pyyaml>=5.1 in /usr/local/lib/python3.10/dist-packages (from datasets) (6.0.1)\n",
            "Requirement already satisfied: aiosignal>=1.1.2 in /usr/local/lib/python3.10/dist-packages (from aiohttp->datasets) (1.3.1)\n",
            "Requirement already satisfied: attrs>=17.3.0 in /usr/local/lib/python3.10/dist-packages (from aiohttp->datasets) (23.2.0)\n",
            "Requirement already satisfied: frozenlist>=1.1.1 in /usr/local/lib/python3.10/dist-packages (from aiohttp->datasets) (1.4.1)\n",
            "Requirement already satisfied: multidict<7.0,>=4.5 in /usr/local/lib/python3.10/dist-packages (from aiohttp->datasets) (6.0.5)\n",
            "Requirement already satisfied: yarl<2.0,>=1.0 in /usr/local/lib/python3.10/dist-packages (from aiohttp->datasets) (1.9.4)\n",
            "Requirement already satisfied: async-timeout<5.0,>=4.0 in /usr/local/lib/python3.10/dist-packages (from aiohttp->datasets) (4.0.3)\n",
            "Requirement already satisfied: typing-extensions>=3.7.4.3 in /usr/local/lib/python3.10/dist-packages (from huggingface-hub>=0.19.4->datasets) (4.11.0)\n",
            "Requirement already satisfied: charset-normalizer<4,>=2 in /usr/local/lib/python3.10/dist-packages (from requests>=2.19.0->datasets) (3.3.2)\n",
            "Requirement already satisfied: idna<4,>=2.5 in /usr/local/lib/python3.10/dist-packages (from requests>=2.19.0->datasets) (3.6)\n",
            "Requirement already satisfied: urllib3<3,>=1.21.1 in /usr/local/lib/python3.10/dist-packages (from requests>=2.19.0->datasets) (2.0.7)\n",
            "Requirement already satisfied: certifi>=2017.4.17 in /usr/local/lib/python3.10/dist-packages (from requests>=2.19.0->datasets) (2024.2.2)\n",
            "Requirement already satisfied: python-dateutil>=2.8.2 in /usr/local/lib/python3.10/dist-packages (from pandas->datasets) (2.8.2)\n",
            "Requirement already satisfied: pytz>=2020.1 in /usr/local/lib/python3.10/dist-packages (from pandas->datasets) (2023.4)\n",
            "Requirement already satisfied: tzdata>=2022.1 in /usr/local/lib/python3.10/dist-packages (from pandas->datasets) (2024.1)\n",
            "Requirement already satisfied: six>=1.5 in /usr/local/lib/python3.10/dist-packages (from python-dateutil>=2.8.2->pandas->datasets) (1.16.0)\n",
            "Installing collected packages: xxhash, dill, multiprocess, datasets\n",
            "Successfully installed datasets-2.18.0 dill-0.3.8 multiprocess-0.70.16 xxhash-3.4.1\n"
          ]
        }
      ]
    },
    {
      "cell_type": "code",
      "source": [
        "from datasets import load_dataset\n",
        "import json\n",
        "from sentence_transformers import SentenceTransformer, CrossEncoder, util\n",
        "import time\n",
        "import gzip\n",
        "import os\n",
        "import torch\n",
        "\n",
        "if not torch.cuda.is_available():\n",
        "  print(\"Warning: No GPU found. Please add GPU to your notebook\")\n"
      ],
      "metadata": {
        "id": "NQdFZsBm20t2"
      },
      "execution_count": 3,
      "outputs": []
    },
    {
      "cell_type": "markdown",
      "source": [
        "##Importing data"
      ],
      "metadata": {
        "id": "g7DYGbXq373X"
      }
    },
    {
      "cell_type": "code",
      "metadata": {
        "colab": {
          "base_uri": "https://localhost:8080/",
          "height": 217,
          "referenced_widgets": [
            "f575640cea2445fe85fc3309d10c66c4",
            "770e6b24626441ff9a803f236fca03a6",
            "b132a92432a64d79b2251e8c9183b79d",
            "303d9d929d6e4987b3b60ae2a707ab85",
            "939b37ca1f374b15b6bdba90f9d35a32",
            "b4e2b97043bc449ab27b7f76accf0b52",
            "d6599cfa78a34ee8be2139c1da090a9b",
            "e1eb31ea098f49e093a6d3244f0b2a3a",
            "74bbe7a8d0084426a66eed42325e8f44",
            "65bfdbf1279c411087e706e141800249",
            "706c9922d5f3491e9f4fe3db3871ae85",
            "c174197c680841dbb7b1f7c9711c29a4",
            "813005cd52e84dd4a6adc9dbce77c9e4",
            "023eda2d28dc4c9c84daf09ae752dfd2",
            "8b9e3b0c01ef49a89340e7afeb7595b5",
            "49aea972a3744fcda047c66698604fd9",
            "0eabde402e894153bc0b7033adf68481",
            "c9d07428fa3e4f74822e6aa7d1cf0f3d",
            "4be4ca0d175d4c7d97453aeb128dde23",
            "647c086e66c8414ca1544d1b45c24c1b",
            "7d3413be43184f40ab66ba95bf2a2baa",
            "cab8302ab3be4541930c84c0776cf66d",
            "79e78a3e5def49b58d452a4e8f26a8db",
            "a37afc9c3718497eae24f6b7ece0adbc",
            "9a25a7256b9542138e3787e114c8c691",
            "d7ab9df526cd4cbcb8e50251c9433790",
            "e6eda94e598d44a1ba5475f17db542fc",
            "03b079e891554e8daeb9abed5d2417d0",
            "39d271908c76401c91f41997ee9aafbb",
            "a074664bf2ea442880aac096957e954f",
            "2388ede3ff02452aaef7e76723b8ac59",
            "19fb6311f5b74240ab38d532e4507325",
            "44b698b4571743bf80a174ac2593852f"
          ]
        },
        "id": "6zQLM84377Xf",
        "outputId": "4181ca3f-bf6f-4590-f29d-c723d3e714fe"
      },
      "source": [
        "from datasets import load_dataset\n",
        "ds = load_dataset(\"Coder-Dragon/wikipedia-movies\", split='train[:1000]')\n"
      ],
      "execution_count": 4,
      "outputs": [
        {
          "output_type": "stream",
          "name": "stderr",
          "text": [
            "/usr/local/lib/python3.10/dist-packages/huggingface_hub/utils/_token.py:88: UserWarning: \n",
            "The secret `HF_TOKEN` does not exist in your Colab secrets.\n",
            "To authenticate with the Hugging Face Hub, create a token in your settings tab (https://huggingface.co/settings/tokens), set it as secret in your Google Colab and restart your session.\n",
            "You will be able to reuse this secret in all of your notebooks.\n",
            "Please note that authentication is recommended but still optional to access public models or datasets.\n",
            "  warnings.warn(\n"
          ]
        },
        {
          "output_type": "display_data",
          "data": {
            "text/plain": [
              "Downloading readme:   0%|          | 0.00/1.04k [00:00<?, ?B/s]"
            ],
            "application/vnd.jupyter.widget-view+json": {
              "version_major": 2,
              "version_minor": 0,
              "model_id": "f575640cea2445fe85fc3309d10c66c4"
            }
          },
          "metadata": {}
        },
        {
          "output_type": "display_data",
          "data": {
            "text/plain": [
              "Downloading data:   0%|          | 0.00/75.0M [00:00<?, ?B/s]"
            ],
            "application/vnd.jupyter.widget-view+json": {
              "version_major": 2,
              "version_minor": 0,
              "model_id": "c174197c680841dbb7b1f7c9711c29a4"
            }
          },
          "metadata": {}
        },
        {
          "output_type": "display_data",
          "data": {
            "text/plain": [
              "Generating train split: 0 examples [00:00, ? examples/s]"
            ],
            "application/vnd.jupyter.widget-view+json": {
              "version_major": 2,
              "version_minor": 0,
              "model_id": "79e78a3e5def49b58d452a4e8f26a8db"
            }
          },
          "metadata": {}
        }
      ]
    },
    {
      "cell_type": "markdown",
      "source": [
        "## Encoding Movies\n",
        "So they will be searchable."
      ],
      "metadata": {
        "id": "aa-MJUQ66HSL"
      }
    },
    {
      "cell_type": "code",
      "source": [
        "# We use the Bi-Encoder to encode all movies, so that we can use it with sematic search\n",
        "model_name = 'nq-distilbert-base-v1'\n",
        "bi_encoder = SentenceTransformer(model_name)\n",
        "\n",
        "# create movies[] as [title, plot]\n",
        "movies = []\n",
        "for title, plot in zip(ds['Title'], ds['Plot']):\n",
        "  movies.append([title, plot])\n",
        "\n"
      ],
      "metadata": {
        "id": "Tkpb7_xZ2wv4"
      },
      "execution_count": 15,
      "outputs": []
    },
    {
      "cell_type": "code",
      "source": [
        "# examine movies[]\n",
        "print(len(movies), \"\\n\")\n",
        "movies[:3]"
      ],
      "metadata": {
        "colab": {
          "base_uri": "https://localhost:8080/"
        },
        "id": "I-KNPXok5iXV",
        "outputId": "897fee12-eaa4-4c6f-b642-e55c50791bf2"
      },
      "execution_count": 16,
      "outputs": [
        {
          "output_type": "stream",
          "name": "stdout",
          "text": [
            "1000 \n",
            "\n"
          ]
        },
        {
          "output_type": "execute_result",
          "data": {
            "text/plain": [
              "[['Kansas Saloon Smashers',\n",
              "  \"A bartender is working at a saloon, serving drinks to customers. After he fills a stereotypically Irish man's bucket with beer, Carrie Nation and her followers burst inside. They assault the Irish man, pulling his hat over his eyes and then dumping the beer over his head. The group then begin wrecking the bar, smashing the fixtures, mirrors, and breaking the cash register. The bartender then sprays seltzer water in Nation's face before a group of policemen appear and order everybody to leave.[1]\"],\n",
              " ['Love by the Light of the Moon',\n",
              "  \"The moon, painted with a smiling face hangs over a park at night. A young couple walking past a fence learn on a railing and look up. The moon smiles. They embrace, and the moon's smile gets bigger. They then sit down on a bench by a tree. The moon's view is blocked, causing him to frown. In the last scene, the man fans the woman with his hat because the moon has left the sky and is perched over her shoulder to see everything better.\"],\n",
              " ['The Martyred Presidents',\n",
              "  'The film, just over a minute long, is composed of two shots. In the first, a girl sits at the base of an altar or tomb, her face hidden from the camera. At the center of the altar, a viewing portal displays the portraits of three U.S. Presidents—Abraham Lincoln, James A. Garfield, and William McKinley—each victims of assassination.\\r\\nIn the second shot, which runs just over eight seconds long, an assassin kneels feet of Lady Justice.']]"
            ]
          },
          "metadata": {},
          "execution_count": 16
        }
      ]
    },
    {
      "cell_type": "code",
      "source": [
        "# create corpus embeddings\n",
        "corpus_embeddings = bi_encoder.encode(movies, convert_to_tensor=True, show_progress_bar=True)\n",
        "\n",
        "corpus_embeddings"
      ],
      "metadata": {
        "colab": {
          "base_uri": "https://localhost:8080/",
          "height": 188,
          "referenced_widgets": [
            "75a04f06d34a4297811960b8a3d7998a",
            "4e191bf5e97f4021b49c9189d167c014",
            "7e8a7af3b45e47eaac5e8e37707626c4",
            "1445e94ace6d44d3bd4fbd190690e303",
            "805a89be02fa4612b37369f90bc57b8c",
            "0ec5116b16084c178d877cf0f708b7f0",
            "9e649adc848d4d2786bd4a84234031eb",
            "74c53297b7aa49d3847ad27f59e9612a",
            "179cdad069474789b4728121505b6973",
            "ad84e447af654460b85c93628164ad36",
            "2d36573598f54d17a137436810873d30"
          ]
        },
        "id": "dZDE2YVI54xN",
        "outputId": "8b039cd6-a1a6-436d-f523-76f324287537"
      },
      "execution_count": 18,
      "outputs": [
        {
          "output_type": "display_data",
          "data": {
            "text/plain": [
              "Batches:   0%|          | 0/32 [00:00<?, ?it/s]"
            ],
            "application/vnd.jupyter.widget-view+json": {
              "version_major": 2,
              "version_minor": 0,
              "model_id": "75a04f06d34a4297811960b8a3d7998a"
            }
          },
          "metadata": {}
        },
        {
          "output_type": "execute_result",
          "data": {
            "text/plain": [
              "tensor([[ 0.4242,  0.3535, -0.4906,  ..., -0.4527, -0.7219, -0.3250],\n",
              "        [ 0.4416,  0.4091,  0.6788,  ..., -0.3532, -0.1965, -0.0579],\n",
              "        [ 0.4367,  0.0597, -0.0720,  ...,  0.0901,  0.1567,  0.0581],\n",
              "        ...,\n",
              "        [ 0.1280, -0.4610, -0.6371,  ...,  0.3196, -0.1572,  0.8058],\n",
              "        [ 0.1239,  0.1953, -0.4919,  ...,  0.2174,  0.0470, -0.1063],\n",
              "        [-0.2902, -0.0538, -0.3584,  ..., -0.0562, -0.3267, -0.3031]],\n",
              "       device='cuda:0')"
            ]
          },
          "metadata": {},
          "execution_count": 18
        }
      ]
    },
    {
      "cell_type": "markdown",
      "source": [
        "##Query Encoding"
      ],
      "metadata": {
        "id": "DymFDoqK6A3d"
      }
    },
    {
      "cell_type": "code",
      "metadata": {
        "id": "ay9y6HdQ8Dx2"
      },
      "source": [
        "def search(query, top_k = 5):\n",
        "    # Encode the query using the bi-encoder and find potentially relevant movies\n",
        "    start_time = time.time()\n",
        "    query_embedding = bi_encoder.encode(query, convert_to_tensor=True)\n",
        "\n",
        "    # use util.semantic_search to return cosine similarity and top k\n",
        "    hits = util.semantic_search(query_embedding, corpus_embeddings, top_k=top_k)\n",
        "    hits = hits[0]  # Get the hits for the first query\n",
        "    end_time = time.time()\n",
        "\n",
        "    # Output of top-k hits\n",
        "    print(\"Query: \", query)\n",
        "    print(\"Results (after {:.3f} seconds):\".format(end_time - start_time))\n",
        "    for hit in hits:\n",
        "      print(\"\\t{:.3f}\\t{}\".format(hit['score'], movies[hit['corpus_id']]))"
      ],
      "execution_count": 19,
      "outputs": []
    },
    {
      "cell_type": "code",
      "source": [],
      "metadata": {
        "id": "QkvNlw8oLjvw"
      },
      "execution_count": 20,
      "outputs": []
    },
    {
      "cell_type": "markdown",
      "source": [
        "###Query 1"
      ],
      "metadata": {
        "id": "5yQPkc7qTA3A"
      }
    },
    {
      "cell_type": "code",
      "metadata": {
        "colab": {
          "base_uri": "https://localhost:8080/"
        },
        "id": "yzYTZ62j8JYv",
        "outputId": "f7613f3f-5650-488b-d863-22c11e09c36a"
      },
      "source": [
        "search(\"Documentaries showcasing indigenous peoples' survival and daily life in Arctic regions\")"
      ],
      "execution_count": 21,
      "outputs": [
        {
          "output_type": "stream",
          "name": "stdout",
          "text": [
            "Query:  Documentaries showcasing indigenous peoples' survival and daily life in Arctic regions\n",
            "Results (after 0.016 seconds):\n",
            "\t0.457\t['Nanook of the North', 'The documentary follows the lives of an Inuk, Nanook, and his family as they travel, search for food, and trade in the Ungava Peninsula of northern Quebec, Canada. Nanook; his wife, Nyla; and their family are introduced as fearless heroes who endure rigors no other race could survive. The audience sees Nanook, often with his family, hunt a walrus, build an igloo, go about his day, and perform other tasks.']\n",
            "\t0.264\t['David Copperfield', '\"David Copperfield consists of three reels and as three separate films, released in three consecutive weeks, with three different titles: The Early Life of David Copperfield, Little Em\\'ly and David Copperfield and The Loves of David Copperfield.[4]']\n",
            "\t0.251\t['Straight Shooting', 'At the end of the 19th century in the Far West, a farmer is fighting for his right to plough the plains. In order to expel the farmers, the ranchers try to control access to water.[2]']\n",
            "\t0.244\t['The Frozen North', 'The film opens near the \"last stop on the subway\", a terminal in Alaska, which appears to be emerging from deep snow in the middle of nowhere. A tough-looking cowboy (Buster Keaton) emerges. He arrives at a small settlement, finding people gambling in a saloon. He tries to rob them by scaring them with the cutout of a poster of a man holding a gun, which he places at the window, as if he has an accomplice. He tells the gamblers to raise their hands in the air. Frightened, they hand over their cash, but soon they find out the truth when a drunk man falls over the cutout. Keaton is thrown out through the window.\\r\\nNext, he mistakenly enters a house thinking that it is his own house. Inside, he sees a man and a woman kissing. Thinking the woman is his wife, he gets red-hot angry and shoots the couple, later to realize his mistake. He goes to his own house, where he finds his wife (Sybil Seely), who greets him, but he treats her coldly. She tries to pick a vase from a shelf, but it drops and knocks her out. Investigating the shooting of the couple, a passing policeman then knocks at Keaton\\'s door after hearing his wife scream. Keaton saves himself from arrest by playing music on gramophone and pretending to dance with his unconscious wife. As soon as the officer leaves, he drops her on the floor.\\r\\nHe looks out of the window and sees his pretty neighbor (Bonnie Hill). He quickly dons an elegant white suit and picks flowers (mysteriously growing from the deep snow; a sign reads \"Keep Off the Grass\"). He attempts to woo her, but she rejects him. Her husband comes back home and Keaton\\'s character has to flee once more.\\r\\nThe neighbors leave on a sled for a new, even more bleak northerly location. Keaton gets a \"car\" (a dog sled with an engine) driven by a friend (Joe Roberts) to follow them, but it breaks down, so he has to hail a passing \"taxi\" (a horse drawn sled with upholstery). The taxi is stopped by a traffic warden riding a motorized sled with a propeller for speeding on the snow, but they get away. Keaton is up to his old tricks—he \"reverses\" the propeller so the officer goes backward into a lake. Near the north pole, he and Roberts find a hotel-like igloo with wall-hangings of a stag\\'s head and a guitar. In a gag Keaton tries to hang his hat on a stag head antler but it keeps falling off. They attempt to survive by fishing in the manner of the Eskimos. Keaton makes snow-shoes from guitars and attempts to catch fish using tinned sardines as bait, but just creates trouble—he first falls through the ice and then tries to fish—but the only things he \"catches\" are another fisherman\\'s baited fish and the other fisherman himself!\\r\\nForced to flee back to the igloo, where his companion is hoovering the ice floor, Keaton sees his pretty neighbor again in her new hut. Fortified by drinking a bottle of cola, he decides he will force himself on her in the manner of Erich von Stroheim\\'s character from the film Foolish Wives. He appears in Stroheim-like clothing at her hut, but is chased by her husband. Pretending to be a snowman, he eludes him and returns to the hut. Roberts tries to fight the husband but ends up falling into a lake. The husband returns to find his wife weeping on the floor as Keaton stands over her. He wrestles with Keaton. Keaton\\'s wife appears and shoots her husband. The wounded Keaton takes a pistol and tries to shoot the husband, but at that moment a janitor wakes Keaton up in the front row of a film theater (the gun in the last scene turns out to be a folded newspaper in his hand) and Keaton realizes that it was all a dream!']\n",
            "\t0.237\t['The Boy Friend', 'Comedy about a small-town girl unhappy with her family, and a boy trying to please her by throwing a big party.']\n"
          ]
        }
      ]
    },
    {
      "cell_type": "markdown",
      "source": [
        "Ground Truth Movie: 'Nanook of the North'\n",
        "\n",
        "Recall = 1\n",
        "\n",
        "RR = 1"
      ],
      "metadata": {
        "id": "M3btEHwnSuS3"
      }
    },
    {
      "cell_type": "markdown",
      "source": [
        "###Query 2"
      ],
      "metadata": {
        "id": "bSRPMb8ZTMGB"
      }
    },
    {
      "cell_type": "code",
      "metadata": {
        "colab": {
          "base_uri": "https://localhost:8080/"
        },
        "id": "i09OgOIz8K-u",
        "outputId": "924d0f90-9ff9-4d2a-edd9-f1c946d806a0"
      },
      "source": [
        "search(\"Western romance\")"
      ],
      "execution_count": 22,
      "outputs": [
        {
          "output_type": "stream",
          "name": "stdout",
          "text": [
            "Query:  Western romance\n",
            "Results (after 0.017 seconds):\n",
            "\t0.305\t['The Great Gatsby', \"An adaptation of F. Scott Fitzgerald's Long Island-set novel, where Midwesterner Nick Carraway is lured into the lavish world of his neighbor, Jay Gatsby. Soon enough, however, Carraway will see through the cracks of Gatsby's nouveau riche existence, where obsession, madness, and tragedy await.\"]\n",
            "\t0.295\t[\"Youth's Endearing Charm\", 'The film is about a court case and embezzlement.']\n",
            "\t0.283\t['Frankenstein', 'Described as \"a liberal adaptation of Mrs. Shelley\\'s famous story\", the plot description in the Edison Kinetogram was:[3]']\n",
            "\t0.280\t['High Society Blues', 'A new country family comes to live among established wealthy neighbors.']\n",
            "\t0.277\t['Romance', 'As described in a film publication,[2] a youth (Arthur Rankin) in the prologue seeks advice from his grandfather (Sydney), who then recalls a romance of his own youth which is then shown as a flashback. A priest (Sydney) is in love with an Italian opera singer (Keane), and the drama involves the conflict between his efforts to rise above worldly things or to leave with her. The romance ends with a deep note of pathos.']\n"
          ]
        }
      ]
    },
    {
      "cell_type": "markdown",
      "source": [
        "Ground Truth Movie: 'The Lucky Horseshoe'\n",
        "\n",
        "Recall = 0\n",
        "\n",
        "RR = 0"
      ],
      "metadata": {
        "id": "eWg9EnVOTa2I"
      }
    },
    {
      "cell_type": "markdown",
      "source": [
        "###Query 3"
      ],
      "metadata": {
        "id": "BpJhSpVkTOhR"
      }
    },
    {
      "cell_type": "code",
      "metadata": {
        "colab": {
          "base_uri": "https://localhost:8080/"
        },
        "id": "I34QJmac8MGm",
        "outputId": "19440bb1-f291-40d9-9b63-cf822cd6f729"
      },
      "source": [
        "search(\"Silent film about a Parisian star moving to Egypt, leaving her husband \\\n",
        "for a baron, and later reconciling after finding her family in poverty in Cairo.\")"
      ],
      "execution_count": 23,
      "outputs": [
        {
          "output_type": "stream",
          "name": "stdout",
          "text": [
            "Query:  Silent film about a Parisian star moving to Egypt, leaving her husband for a baron, and later reconciling after finding her family in poverty in Cairo.\n",
            "Results (after 0.013 seconds):\n",
            "\t0.449\t['Married in Hollywood', \"A showgirl, part of a troupe, tours Europe where she falls in love with a Balkan prince. The prince's parents disapprove and attempt to put a stop to the romance. A revolution occurs and the prince and the showgirl elope to Hollywood.\"]\n",
            "\t0.394\t['The King on Main Street', 'King Serge IV of Molvania (Menjou) comes to a small American town, and falls in love with one of its residents, Mary Young (Love).[3][4]']\n",
            "\t0.392\t['Sahara', \"Silent film femme fatale, Louise Glaum, portrays the role of Mignon, a Parisian music hall celebrity. Mignon marries a young American civil engineer, John Stanley, portrayed by Matt Moore. Stanley is transferred to Egypt to work on an engineering project in the Sahara. Mignon and her son, portrayed by Pat Moore, join Stanley in the desert.[3][4] Unhappy with life in the desert, Mignon leaves Stanley and her son in the desert and moves to Cairo with the wealthy Baron Alexis, portrayed by Edwin Stevens. Mignon lives in Baron Alexis' palace while Stanley goes blind and becomes addicted to the drug hasheesh. Mignon later encounters Stanley and her son, who have become beggars in the streets of Cairo.[3][4] Mignon returns to the desert to care for her husband, and the two are reconciled.\"]\n",
            "\t0.389\t['One Hysterical Night', 'A wealthy man dresses up as Napoleon for a fancy dress ball, but is instead detained in a lunatic asylum where they suspect him of having delusions of grandeur.[2]']\n",
            "\t0.388\t['Bound in Morocco', 'As described in a film magazine,[3] George Travelwell (Fairbanks), an American youth motoring in Morocco, discovers that the governor of El Harib (Campeau) has seized a young American woman for his harem. Disguised as an inmate of the harem, George nearly wrecks the place while he rescues her. One thrilling incident follows upon the heels of another in their attempts to get away, and it ends with him setting one tribe against another, leaving them free to peacefully ride away.']\n"
          ]
        }
      ]
    },
    {
      "cell_type": "markdown",
      "source": [
        "Ground Truth Movie: 'Sahara'\n",
        "\n",
        "Recall = 0\n",
        "\n",
        "RR = 1/3 (ranked 3rd)"
      ],
      "metadata": {
        "id": "JdzmfFqiTtjI"
      }
    },
    {
      "cell_type": "markdown",
      "source": [
        "###Query 4"
      ],
      "metadata": {
        "id": "QZG1rxT7TQbZ"
      }
    },
    {
      "cell_type": "code",
      "metadata": {
        "colab": {
          "base_uri": "https://localhost:8080/"
        },
        "id": "07Y5IlfY8NYO",
        "outputId": "d1ebc2c0-8f2c-4247-ff51-ac4dbe0469e2"
      },
      "source": [
        "search(\"Comedy film, office disguises, boss's daughter, elopement.\")"
      ],
      "execution_count": 24,
      "outputs": [
        {
          "output_type": "stream",
          "name": "stdout",
          "text": [
            "Query:  Comedy film, office disguises, boss's daughter, elopement.\n",
            "Results (after 0.013 seconds):\n",
            "\t0.403\t[\"Youth's Endearing Charm\", 'The film is about a court case and embezzlement.']\n",
            "\t0.400\t['Dressed to Kill', 'The gang of a mob boss grow suspicious of his new girlfriend. She\\'s a beautiful young girl and they don\\'t believe she would actually associate with the mob and wonder if she\\'s really a police \"plant\". The mobsters dress nattily to not appear \"out of place\" in the ritzy neighborhoods prior to a heist.']\n",
            "\t0.398\t['The Boy Friend', 'Comedy about a small-town girl unhappy with her family, and a boy trying to please her by throwing a big party.']\n",
            "\t0.390\t['A Little Journey', 'A girl travelling by train to meet her boyfriend meets another young man and falls in love with him.']\n",
            "\t0.373\t['This Is Heaven', \"Vilma Banky portrays a newly arrived Hungarian immigrant who learns to accustom herself to the new and strange life she finds in New York. The story gave Miss Banky moments of comedy and pathos. First seen as a frightened little peasant muffled in countless petticoats and shawls --- then in a neat waitress's uniform as she flips hotcakes in a restaurant window.\"]\n"
          ]
        }
      ]
    },
    {
      "cell_type": "markdown",
      "source": [
        "Ground Truth Movie: 'Ask Father'\n",
        "\n",
        "Recall = 0\n",
        "\n",
        "RR = 0"
      ],
      "metadata": {
        "id": "lvQ1evB-T66r"
      }
    },
    {
      "cell_type": "markdown",
      "source": [
        "###Query 5"
      ],
      "metadata": {
        "id": "kZGtCW1XTTa0"
      }
    },
    {
      "cell_type": "code",
      "metadata": {
        "colab": {
          "base_uri": "https://localhost:8080/"
        },
        "id": "-Vwl92Sj8OfH",
        "outputId": "2ce85610-599b-4d05-ac9b-5687cb699d0f"
      },
      "source": [
        "search(\"Lost film, Cleopatra charms Caesar, plots world rule, treasures from \\\n",
        "mummy, revels with Antony, tragic end with serpent in Alexandria.\")"
      ],
      "execution_count": 25,
      "outputs": [
        {
          "output_type": "stream",
          "name": "stdout",
          "text": [
            "Query:  Lost film, Cleopatra charms Caesar, plots world rule, treasures from mummy, revels with Antony, tragic end with serpent in Alexandria.\n",
            "Results (after 0.015 seconds):\n",
            "\t0.537\t['Cleopatra', \"Because the film has been lost, the following summary is reconstructed from a description in a contemporary film magazine.\\r\\nCleopatra (Bara), the Siren of Egypt, by a clever ruse reaches Caesar (Leiber) and he falls victim to her charms. They plan to rule the world together, but then Caesar falls. Cleopatra's life is desired by the church, as the wanton woman's rule has become intolerable. Pharon (Roscoe), a high priest, is given a sacred dagger to take her life. He gives her his love instead and, when she is in need of some money, leads her to the tomb of his ancestors, where she tears the treasure from the breast of the mummy. With this wealth she goes to Rome to meet Antony (Hall). He leaves the affairs of state and travels to Alexandria with her, where they revel. Antony is recalled to Rome and married to Octavia (Blinn), but his soul cries out for Cleopatra. He sends her a message to arm her ships and meet him at Actium, where they battle the opposing forces. They are overpowered, and flee to Alexandria. There they are captured by Octavius (De Vries), and Antony dies in Cleopatra's arms. Before Cleopatra is to be dragged behind the wheels of Octavius' chariot, Pharon the priest, who has never ceased to love her, brings her the serpent that she joyously brings to her breast, dying royally with her crown on her head and scepter in her hand as becomes Egypt.\"]\n",
            "\t0.365\t['The Lost World', 'From a lost expedition to a plateau in Venezuela, Paula White brings the journal of her father explorer Maple White to the eccentric Professor Challenger in London. The journal features sketches of dinosaurs which is enough proof for Challenger to publicly announce that dinosaurs still walk the earth. Met with ridicule at an academic meeting at the Zoological Hall, Challenger reluctantly accepts a newspaper\\'s offer to finance a mission to rescue Maple White. Professor Challenger, Paula White, sportsman Sir John Roxton, news reporter Edward Malone (who is a friend of Roxton and wishes to go on the expedition to impress his fiancée), a skeptical professor Summerlee, an Indian servant Zambo, and Challenger\\'s butler Austin leave for the plateau.\\r\\nAt their campsite at the base of the plateau, the explorers are shocked when a large rock falls, sent their way by an Apeman perched on top of an overhead ledge. As the crew look up to see their attacker, Challenger spies overhead a Pteranodon (mistakenly calling it a Pterodactylus) killing and eating a young Toxodon which proves that the statements in Maple White\\'s diary are true. Leaving Zambo and Austin at the camp, they cross a chasm onto the plateau by cutting down a tree and using it as a bridge, but it is knocked over by a Brontosaurus, leaving them trapped.\\r\\nThe explorers witness various life-and-death struggles between the prehistoric beasts of the plateau. An Allosaurus attacks an Edmontosaurus, and knocks it into a bog. The Allosaurus then attacks, and is driven off by a Triceratops. Eventually, the Allosaurus makes its way to the campsite and attacks the exploration party. It is finally driven off by Ed who tosses a torch into its mouth. Convinced that the camp is not safe, Ed climbs a tree to look for a new location, but is attacked by the apeman. Roxton succeeds in shooting the apeman, but the creature is merely wounded and escapes before he can finish him off. Meanwhile, an Agathaumas is attacked by the Allosaurus, and gores it to death. Suddenly, a Tyrannosaurus attacks and kills the Agathaumas, along with an unfortunate Pteranodon.\\r\\nThe explorers then make preparations to live on the plateau potentially indefinitely. A catapult is constructed and during a search for Maple White, Roxton finds his remains, confirming his death. It is at this time that Ed confesses his love for Paula and the two are unofficially wed by Summerlee who used to be a minister.\\r\\nShortly afterwards, as the paleontologists are observing the Brontosaurus, an Allosaurus attacks it and the Brontosaurus falls off the edge of the plateau, becoming trapped in a mud bank at the base of the plateau. Soon afterwards, a volcano erupts causing a mass stampede among the giant creatures of the lost world. The crew is saved when Paula\\'s pet monkey Jocko climbs up the plateau carrying a rope. The crew use the rope to pull up a rope ladder constructed by Zambo and Austin and then climb down.\\r\\nAs Ed makes his descent, he is again attacked by the apeman who pulls the rope ladder. The apeman is again shot and finally killed by Roxton. They discover the Brontosaurus that had been pushed off the plateau had landed softly in the mud of the river, trapped but still alive, and Challenger manages to bring it back to London, as he wants to put it on display as proof of his story.\\r\\nHowever, while being unloaded from the ship it escapes and causes havoc until it reaches Tower Bridge, where its massive weight causes a collapse, and it swims down the River Thames. Challenger is morose as the creature leaves. Ed discovers that the love he left in London has married in his absence, allowing him and Paula to be together. Roxton morosely but gallantly hides his love for Paula as Paula and Ed leave together, while two passersby note: \"That\\'s Sir John Roxton—sportsman.\"']\n",
            "\t0.358\t['The Man Who Lost Himself', \"As described in a film magazine,[4] American Victor Jones (Faversham) finds himself penniless and stranded in London. He meets the Earl of Rochester (Faversham), and the similarity between the two is so noticeable that even friends mistake Jones for the Earl. The Earl is estranged from his wife (Hopper) and family, owes great sums of money, and is considered in a bad light by acquaintances. He gets Jones drunk and sends him to the Rochester mansion, and then commits suicide. Until Jones receives a note written by the Earl prior to his death, he does not perceive his position. After reading the note, Jones immediately begins to pose as the Earl, but later reveals this scheme. However, he has fallen in love with the Earl's widow and they decide to reside in the United States.\"]\n",
            "\t0.353\t['The Golden Louis', 'An old woman sends a girl begging in the streets of Paris on a snowy evening. Callous revelers pass her by, and she falls asleep before one donor finally drops a golden Louis in her shoe. A gambler with a sure tip on roulette but no cash borrows the coin to win a fortune for the girl. She wakes, and the two miss each other wandering the streets until the gambler finds the girl dead.']\n",
            "\t0.337\t['Reaching for the Moon', 'Wall Street wizard, Larry Day, new to the ways of love, is coached by his valet. He follows Vivian Benton on an ocean liner, where cocktails, laced with a \"love potion\", work their magic. He then loses his fortune in the market crash and feels he has also lost his girl.']\n"
          ]
        }
      ]
    },
    {
      "cell_type": "markdown",
      "source": [
        "Ground Truth Movie: 'Cleopatra'\n",
        "\n",
        "Recall = 1\n",
        "\n",
        "RR = 1"
      ],
      "metadata": {
        "id": "IBz3Jn1SUFZo"
      }
    },
    {
      "cell_type": "markdown",
      "source": [
        "###Query 6"
      ],
      "metadata": {
        "id": "uM8f4rU3TVss"
      }
    },
    {
      "cell_type": "code",
      "metadata": {
        "colab": {
          "base_uri": "https://localhost:8080/"
        },
        "id": "8ctUiLrj8Qjv",
        "outputId": "94df6b09-ede0-4b44-c8d6-0aeb7a2b36e3"
      },
      "source": [
        "search(\"Denis Gage Deane-Tanner\")"
      ],
      "execution_count": 26,
      "outputs": [
        {
          "output_type": "stream",
          "name": "stdout",
          "text": [
            "Query:  Denis Gage Deane-Tanner\n",
            "Results (after 0.013 seconds):\n",
            "\t0.365\t['Souls for Sale', 'Remember \"Mem\" Steddon (Eleanor Boardman) marries Owen Scudder (Lew Cody) after a whirlwind courtship. However, on their wedding night, she has a change of heart. When the train taking them to Los Angeles stops for water, she impulsively and secretly gets off in the middle of the desert. Strangely, when Scudder realizes she is gone, he does not have the train stopped.\\r\\nMem sets off in search of civilization. Severely dehydrated, she sees an unusual sight: an Arab on a camel. It turns out to be actor Tom Holby (Frank Mayo); she has stumbled upon a film being shot on location. When she recuperates, she is given a role as an extra. Both Holby and director Frank Claymore (Richard Dix) are attracted to her. However, when filming ends, she does not follow the troupe back to Hollywood, but rather gets a job at a desert inn.\\r\\nMeanwhile, Scudder is recognized and arrested at the train station. He turns out to be a cold-blooded murderer who marries women, insures them, and then kills them for the payoff. He escapes and persuades a gullible Abigail Tweedy (Dale Fuller) to file off his handcuffs. She becomes his next victim, though fortunately for her, he only robs her of her savings. He leaves the country and targets Englishwoman Lady Jane (Aileen Pringle). To his profound embarrassment, she turns out to be the same sort of crook as he; she and her father \"Lord Fryingham\" (William Orlamond) rob him, but let him live.\\r\\nWhen the inn closes for the season, Mem travels to Hollywood in search of work. Her actress friend from the desert shoot, Leva Lemaire (Barbara La Marr), persuades Claymore to give her a screen test for the only uncast role in his next production: a comic part. Though she fails miserably, Claymore decides to train her anyway. She proves to be talented and steadily gets better and better parts.\\r\\nJust as Mem is rising to fame, Scudder returns and sneaks into her bedroom. Holby and Claymore have become rivals for Mem\\'s affections. When Scudder sees their warmly autographed photographs, he flies into a jealous rage. Mem, aware of her husband\\'s past and fearful of a career-ending scandal, offers him money to leave her alone, but he wants her. Scudder leaves only when she threatens to kill herself. Claymore shows up, but when Scudder overhears the director propose marriage to his protegée, Scudder tries to shoot him. Claymore wrestles away his gun, but lets him go at Mem\\'s urging.\\r\\nWhen star Robina Teele (Mae Busch) is seriously injured by a falling light, Claymore decides to have Mem take her place. Filming continues on an outdoor circus set, complete with a full-scale Big Top tent. In the climax, a lightning storm sets the huge tent on fire in the middle of filming. (Claymore orders his cameramen to keep shooting.) Scudder, who has snuck into the audience of extras, takes advantage of the panic and confusion to try to kill an unsuspecting Claymore by driving a wind machine (with a deadly propeller) at him. Holby spots Scudder and struggles with him. When Mem stumbles into the machine\\'s path, Scudder rushes to save her and loses his own life. He apologizes before dying, explaining that all his life there was something wrong with him, but he did at least one thing right. Afterward, Mem chooses Claymore over Holby.']\n",
            "\t0.363\t['The Man in Possession', 'Raymond Dabney (Montgomery) returns to a mixed reaction from his middle-class family in London after serving a sentence at HM Prison Wormwood Scrubs for stealing a motorcar. His mother (Beryl Mercer) and the family servant (Maude Eburne) are delighted to see him, but his father (C. Aubrey Smith) and brother Claude (Reginald Owen) are less so. His father is particularly disappointed in him, having sent him to Cambridge. The two men offer him £500 to leave the country and never return; it seems Claude is engaged to a rich widow, and they are anxious to avoid any scandal that might endanger the marriage. Raymond turns it down, however, and departs the same day.\\r\\nHe obtains work as a sheriff\\'s officer, helping a bailiff serve a writ on Crystal Wetherby (Purcell), a woman in serious debt, taking possession of her property. The bailiff instructs him to remain in Crystal\\'s mansion to keep an eye on the seized property until the next day, but also to provide any reasonable assistance to the woman. Crystal and her sole remaining servant, Clara (Greenwood), have him take the place of the departed butler.\\r\\nThen Crystal mentions the name of her fiancé, none other than Claude Dabney. Claude is bringing his parents to dinner that night to meet her. The situation is awkward for all the Dabneys. Meanwhile, Crystal\\'s admirer, the wealthy and generous (if disreputable) Sir Charles Cartwright (Alan Mowbray), shows up. Crystal has carefully kept the news of her engagement from him. She manages to get the jealous man to leave without him meeting her dinner guests. Before Claude leaves, he informs Crystal that her butler has a crooked past (without revealing they are brothers), but she refuses to discharge him (without revealing he is actually in possession of the premises). To complicate matters even further, that night Raymond seduces a willing Crystal.\\r\\nThe next morning, Raymond prepares Crystal\\'s breakfast in bed, though Clara insists on taking it up to her. When Crystal removes the cover, she sees that the bacon has been arranged to spell the word \"LOVE\". Clara picks up Crystal\\'s undergarments scattered around the room, noting that her chemise is torn. Crystal does not correct Clara\\'s incredulous assumption that it was Claude who ripped it.\\r\\nRaymond then proceeds to sabotage Crystal\\'s other relationships. When Sir Charles arrives, Raymond informs him of her engagement, causing the latter to tear up a check for £1000 he was about to give Crystal. Claude then offers his brother £1000 to leave England forever; Raymond insists on being paid an additional £200 for immediate expenses. Then Raymond shows Claude the writ, proving Crystal is not the wealthy woman she pretends to be. Panic-stricken, Claude tells Raymond to reveal to her that they are brothers (in order to break off the engagement without being sued for breach of promise) and hastily departs. Sir Charles returns, having discovered that his love for Crystal is too strong, but she declines his proposal of marriage.\\r\\nWhen the bailiff shows up, Raymond pays off the outstanding debt, collects his wages, and informs Crystal that they can be married on the ship taking them to a fresh start in a new country. She reminds him of her past, but he is undeterred. She then happily embraces him.']\n",
            "\t0.344\t[\"The Man from Blankley's\", \"The trouble begins when Lord Strathpeffer (John Barrymore), who is on his way to visit an Egyptologist with a case of instruments used by entomologists, loses his way in the fog and wanders into the home (who lives next door to the Egyptologist) of a woman who is hosting a fancy dinner. Mr. and Mrs. Tidmarsh (Dick Henderson and Emily Fitzroy), a middle-class English couple, are giving a dinner party in honor of their wealthy uncle, Gabriel Gilwattle (Albert Gran), hoping to receive his financial aid in their struggle to keep up appearances.\\r\\nAs a result of many of the invitees informing Mrs. Tidmarsh that they could not attend her party, she believes that only 13 guests will show up. As Gilwattle is a superstitious man, Mrs. Tidmarsh sends to the Blankley Employment Agency to send them a distinguished looking man to serve as a guest. In the meantime some other guests inform Fitzroy that they won't be able to come and the hired man is no longer needed. She informs the agency that the man is no longer needed. Nevertheless, when Barrymore arrives at the door, they automatically assume that he was sent by the agency and invite him in to dinner.\\r\\nMayhem ensues. Margery Seaton (Loretta Young), one of the dinner guests, recognizes Barrymore as a former lover, and therefore assumes him to be an impostor. Sobering, Strathpeffer realizes he has come to the wrong party and asserts his right to his title; but Gwennie (Angella Mawby) hides her father's watch in Strathpeffer's pocket as he is renewing his romance with Margery. A police inspector arrives hunting for the missing lord, establishing his authenticity and the fact that he is not, after all, the hired guest.\"]\n",
            "\t0.333\t['Blind Youth', 'As described in a film magazine,[2] when Elizabeth (McDowell) and Pierre Monnier (Swickard) part, the mother takes one son, Henry (Kinny), while the father takes the other, Maurie (McGrail), to Paris. Maurie shows promise as a sculptor, but his life is ruined when he marries Clarice (Carew) and she deserts him to go with Jules Chandoce, a returning soldier. When his father dies, Maurie returns to New York, but finds his mother and brother ashamed of him. He walks the street for a time and contemplates suicide, but becomes inspired after meeting artist model Hope Martin (Joy). With her posing for him he makes a figure called \"Blind Youth\" which makes him famous overnight. After confessing his love to Hope, he tells her of his unfortunate marriage. Clarice reappears to share Maurie\\'s recent fortune, but, after finally realizing that his happiness means more to her than money, she confesses to him that their marriage was illegal as Chandoce really was her husband. Maurie and Hope then wed.']\n",
            "\t0.303\t['Old Clothes', \"Tim Kelly (Jackie Coogan) and Max Ginsberg (Max Davidson) have struck it rich by investing in copper stock. But when the stock takes a dive, they are compelled to go back into their former profession — junk dealers. They take in the destitute Mary Riley (Joan Crawford) as a boarder and she hits it off so well with them that she winds up becoming a partner in their rag & junk company. Mary falls in love with a man named Nathan Burke (Allan Forrest), the son of wealthy parents. Nathan's mother (Lillian Elliott), however, disapproves of Mary. Eventually it is revealed that Mrs. Burke came from a poor background herself, and her long-ago sweetheart was Max. After this discovery, she gives the couple her blessings. The copper stock soars in value once again, so Kelly and Ginsberg are back in the money.[1]\"]\n"
          ]
        }
      ]
    },
    {
      "cell_type": "markdown",
      "source": [
        "Ground Truth Movie: 'Captain Alvarez'\n",
        "\n",
        "Recall = 0\n",
        "\n",
        "\n",
        "RR = 0"
      ],
      "metadata": {
        "id": "pnRvZ9rzUQt_"
      }
    },
    {
      "cell_type": "markdown",
      "source": [
        "##Evaluation Metrics\n",
        "**Recall@1**\n",
        "\n",
        "number of true positives divided by the number of true positives + false negatives (total actual positives). This is a measure of how good the model is at retrieving relevant instances out of all the relevant instances.\n",
        "\n",
        "Here we will be measuring if our  \"ground truth movie\" (1) is  the first movie returned: 1 = yes ;  0 = no\n",
        "\n",
        "**Mean Reciprocal Rank (MRR)** takes the avverage of the highest ranks across queries, for example if a movie ranks 3rd, its reciprocal rank is 1/3, this number is then averaged into the total of all rankings considered.\n",
        "\n",
        "A MMR is measured from 0 to 1, where 1 means that the relevant item is the top result. A higher MMR means better performance."
      ],
      "metadata": {
        "id": "5RJVV2VCNrsJ"
      }
    },
    {
      "cell_type": "markdown",
      "source": [
        "##Analysis"
      ],
      "metadata": {
        "id": "Y8OkwyCwXpKJ"
      }
    },
    {
      "cell_type": "markdown",
      "source": [
        "Only 2 out of 6 queries returned the Ground Truth movie as the top returned result. = .33\n",
        "\n",
        "Adding the Reciprocal Rank values (out of 5) for each query we get .38\n",
        "\n",
        "(1, 1, 1/3, 0, 0, 0) / 6 = .38\n",
        "\n",
        "\n",
        "**recall = .33**\n",
        "\n",
        "**MMR = .38**\n",
        "\n",
        "Both of these are quite low scores."
      ],
      "metadata": {
        "id": "q_es9VmeVazC"
      }
    },
    {
      "cell_type": "markdown",
      "source": [
        "\n",
        "\n",
        "*   What type of queries tend to do Well? Which not so well?\n",
        "    \n",
        "    - Queries that were more descriptive (and unique in that description) did better. Queries 1, 3, and 5. Q1 was descriptive and straightforward, specifying genre and film contents. Q3 very described the plot line very thoroughly. Q5's plot and topic are very clear and this may have more to do with the subject matter of the movie than the query structure. Q4 was formatted very similarly to Q5 but did not return as much success, the description was quite vague. Q3 is also very vague. There are thousands of western romances.\n",
        "*   For the queries that the model didn't perform well, what could be two alternative approaches?\n",
        "\n",
        "    - Beyond being more specific and descriptive in query and using more keywords, and structuring queries in a more natural way,  maybe expanding criteria to include details like cast, shooting location, maybe even descriptions of actors that could return similar films that an actor has starred in. \"What about that murder mystery that is set in Egypt on the nile starring the actress that played wonder woman?\" Gal Gadot.\n",
        "\n"
      ],
      "metadata": {
        "id": "3Dvu84sjYeD2"
      }
    },
    {
      "cell_type": "code",
      "source": [],
      "metadata": {
        "id": "q7DPSEyLXtHy"
      },
      "execution_count": null,
      "outputs": []
    }
  ]
}